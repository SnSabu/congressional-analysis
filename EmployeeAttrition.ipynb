{
  "nbformat": 4,
  "nbformat_minor": 0,
  "metadata": {
    "colab": {
      "provenance": [],
      "authorship_tag": "ABX9TyPqtjdpyUs9MDzH4rLnZnLb",
      "include_colab_link": true
    },
    "kernelspec": {
      "name": "python3",
      "display_name": "Python 3"
    },
    "language_info": {
      "name": "python"
    }
  },
  "cells": [
    {
      "cell_type": "markdown",
      "metadata": {
        "id": "view-in-github",
        "colab_type": "text"
      },
      "source": [
        "<a href=\"https://colab.research.google.com/github/SnSabu/congressional-analysis/blob/main/EmployeeAttrition.ipynb\" target=\"_parent\"><img src=\"https://colab.research.google.com/assets/colab-badge.svg\" alt=\"Open In Colab\"/></a>"
      ]
    },
    {
      "cell_type": "markdown",
      "source": [
        "# **Relationship Between Employee Attrition and Education Level**"
      ],
      "metadata": {
        "id": "_AqTY2jKaVcy"
      }
    },
    {
      "cell_type": "markdown",
      "source": [
        "By Sneha Sabu and Nidhi Athreya Mysore\n",
        "\n",
        "28 February 2023"
      ],
      "metadata": {
        "id": "7Mfa1nm3aZFj"
      }
    },
    {
      "cell_type": "markdown",
      "source": [
        "**Introduction:**\n",
        "With all the layoffs happening around the world, we wanted to delve deeper into the statistics of the other side of the coin, that is people leaving their employement. We wanted to know if there is any correlation between people leaving their jobs, and their level of education. We think that education plays a very important role, as it is a deciding factor while leaving any job or while being forced to leave a job. \n",
        "Our initial hypothesis is that people with higher education degrees have a lower attrition rate. To support this hypothesis, we considered anyalyzing a dataset contatining employement details, education details, workplace environment and so on.\n",
        "To understand the data better, we created visualizations to see which education degree is associated with higher attrition rate. So here are the visualizations:\n",
        "\n"
      ],
      "metadata": {
        "id": "tpXnfyDRW1eN"
      }
    },
    {
      "cell_type": "markdown",
      "source": [
        "**Importing Libraries**"
      ],
      "metadata": {
        "id": "F_fYIlbXbRqd"
      }
    },
    {
      "cell_type": "code",
      "source": [
        "# importing required libraries\n",
        "import pandas as pd\n",
        "import matplotlib.pyplot as plt\n",
        "import seaborn as sns\n",
        "import scipy.stats as stats\n",
        "import statsmodels.api as sm"
      ],
      "metadata": {
        "id": "eLe_Ega8obH3"
      },
      "execution_count": 93,
      "outputs": []
    },
    {
      "cell_type": "markdown",
      "source": [
        "**Read the dataset**"
      ],
      "metadata": {
        "id": "78mbjUoDbVPB"
      }
    },
    {
      "cell_type": "code",
      "execution_count": 112,
      "metadata": {
        "id": "PhnrkvBhjC7H"
      },
      "outputs": [],
      "source": [
        "Employee_Attrition = pd.read_csv(\"WA_Fn-UseC_-HR-Employee-Attrition.csv\")"
      ]
    },
    {
      "cell_type": "markdown",
      "source": [
        "**Exploration of the Employee Attrition dataset**"
      ],
      "metadata": {
        "id": "hp8eyqNAbZ8g"
      }
    },
    {
      "cell_type": "code",
      "source": [
        "Employee_Attrition.head()"
      ],
      "metadata": {
        "colab": {
          "base_uri": "https://localhost:8080/",
          "height": 369
        },
        "id": "9JFSxSQ_ocB6",
        "outputId": "b706696a-9531-4927-bce8-2ba705209ea6"
      },
      "execution_count": 95,
      "outputs": [
        {
          "output_type": "execute_result",
          "data": {
            "text/plain": [
              "   Age Attrition     BusinessTravel  DailyRate              Department  \\\n",
              "0   41       Yes      Travel_Rarely       1102                   Sales   \n",
              "1   49        No  Travel_Frequently        279  Research & Development   \n",
              "2   37       Yes      Travel_Rarely       1373  Research & Development   \n",
              "3   33        No  Travel_Frequently       1392  Research & Development   \n",
              "4   27        No      Travel_Rarely        591  Research & Development   \n",
              "\n",
              "   DistanceFromHome  Education EducationField  EmployeeCount  EmployeeNumber  \\\n",
              "0                 1          2  Life Sciences              1               1   \n",
              "1                 8          1  Life Sciences              1               2   \n",
              "2                 2          2          Other              1               4   \n",
              "3                 3          4  Life Sciences              1               5   \n",
              "4                 2          1        Medical              1               7   \n",
              "\n",
              "   ...  RelationshipSatisfaction StandardHours  StockOptionLevel  \\\n",
              "0  ...                         1            80                 0   \n",
              "1  ...                         4            80                 1   \n",
              "2  ...                         2            80                 0   \n",
              "3  ...                         3            80                 0   \n",
              "4  ...                         4            80                 1   \n",
              "\n",
              "   TotalWorkingYears  TrainingTimesLastYear WorkLifeBalance  YearsAtCompany  \\\n",
              "0                  8                      0               1               6   \n",
              "1                 10                      3               3              10   \n",
              "2                  7                      3               3               0   \n",
              "3                  8                      3               3               8   \n",
              "4                  6                      3               3               2   \n",
              "\n",
              "  YearsInCurrentRole  YearsSinceLastPromotion  YearsWithCurrManager  \n",
              "0                  4                        0                     5  \n",
              "1                  7                        1                     7  \n",
              "2                  0                        0                     0  \n",
              "3                  7                        3                     0  \n",
              "4                  2                        2                     2  \n",
              "\n",
              "[5 rows x 35 columns]"
            ],
            "text/html": [
              "\n",
              "  <div id=\"df-5abe740d-491a-4ef1-a90c-c18610185c9d\">\n",
              "    <div class=\"colab-df-container\">\n",
              "      <div>\n",
              "<style scoped>\n",
              "    .dataframe tbody tr th:only-of-type {\n",
              "        vertical-align: middle;\n",
              "    }\n",
              "\n",
              "    .dataframe tbody tr th {\n",
              "        vertical-align: top;\n",
              "    }\n",
              "\n",
              "    .dataframe thead th {\n",
              "        text-align: right;\n",
              "    }\n",
              "</style>\n",
              "<table border=\"1\" class=\"dataframe\">\n",
              "  <thead>\n",
              "    <tr style=\"text-align: right;\">\n",
              "      <th></th>\n",
              "      <th>Age</th>\n",
              "      <th>Attrition</th>\n",
              "      <th>BusinessTravel</th>\n",
              "      <th>DailyRate</th>\n",
              "      <th>Department</th>\n",
              "      <th>DistanceFromHome</th>\n",
              "      <th>Education</th>\n",
              "      <th>EducationField</th>\n",
              "      <th>EmployeeCount</th>\n",
              "      <th>EmployeeNumber</th>\n",
              "      <th>...</th>\n",
              "      <th>RelationshipSatisfaction</th>\n",
              "      <th>StandardHours</th>\n",
              "      <th>StockOptionLevel</th>\n",
              "      <th>TotalWorkingYears</th>\n",
              "      <th>TrainingTimesLastYear</th>\n",
              "      <th>WorkLifeBalance</th>\n",
              "      <th>YearsAtCompany</th>\n",
              "      <th>YearsInCurrentRole</th>\n",
              "      <th>YearsSinceLastPromotion</th>\n",
              "      <th>YearsWithCurrManager</th>\n",
              "    </tr>\n",
              "  </thead>\n",
              "  <tbody>\n",
              "    <tr>\n",
              "      <th>0</th>\n",
              "      <td>41</td>\n",
              "      <td>Yes</td>\n",
              "      <td>Travel_Rarely</td>\n",
              "      <td>1102</td>\n",
              "      <td>Sales</td>\n",
              "      <td>1</td>\n",
              "      <td>2</td>\n",
              "      <td>Life Sciences</td>\n",
              "      <td>1</td>\n",
              "      <td>1</td>\n",
              "      <td>...</td>\n",
              "      <td>1</td>\n",
              "      <td>80</td>\n",
              "      <td>0</td>\n",
              "      <td>8</td>\n",
              "      <td>0</td>\n",
              "      <td>1</td>\n",
              "      <td>6</td>\n",
              "      <td>4</td>\n",
              "      <td>0</td>\n",
              "      <td>5</td>\n",
              "    </tr>\n",
              "    <tr>\n",
              "      <th>1</th>\n",
              "      <td>49</td>\n",
              "      <td>No</td>\n",
              "      <td>Travel_Frequently</td>\n",
              "      <td>279</td>\n",
              "      <td>Research &amp; Development</td>\n",
              "      <td>8</td>\n",
              "      <td>1</td>\n",
              "      <td>Life Sciences</td>\n",
              "      <td>1</td>\n",
              "      <td>2</td>\n",
              "      <td>...</td>\n",
              "      <td>4</td>\n",
              "      <td>80</td>\n",
              "      <td>1</td>\n",
              "      <td>10</td>\n",
              "      <td>3</td>\n",
              "      <td>3</td>\n",
              "      <td>10</td>\n",
              "      <td>7</td>\n",
              "      <td>1</td>\n",
              "      <td>7</td>\n",
              "    </tr>\n",
              "    <tr>\n",
              "      <th>2</th>\n",
              "      <td>37</td>\n",
              "      <td>Yes</td>\n",
              "      <td>Travel_Rarely</td>\n",
              "      <td>1373</td>\n",
              "      <td>Research &amp; Development</td>\n",
              "      <td>2</td>\n",
              "      <td>2</td>\n",
              "      <td>Other</td>\n",
              "      <td>1</td>\n",
              "      <td>4</td>\n",
              "      <td>...</td>\n",
              "      <td>2</td>\n",
              "      <td>80</td>\n",
              "      <td>0</td>\n",
              "      <td>7</td>\n",
              "      <td>3</td>\n",
              "      <td>3</td>\n",
              "      <td>0</td>\n",
              "      <td>0</td>\n",
              "      <td>0</td>\n",
              "      <td>0</td>\n",
              "    </tr>\n",
              "    <tr>\n",
              "      <th>3</th>\n",
              "      <td>33</td>\n",
              "      <td>No</td>\n",
              "      <td>Travel_Frequently</td>\n",
              "      <td>1392</td>\n",
              "      <td>Research &amp; Development</td>\n",
              "      <td>3</td>\n",
              "      <td>4</td>\n",
              "      <td>Life Sciences</td>\n",
              "      <td>1</td>\n",
              "      <td>5</td>\n",
              "      <td>...</td>\n",
              "      <td>3</td>\n",
              "      <td>80</td>\n",
              "      <td>0</td>\n",
              "      <td>8</td>\n",
              "      <td>3</td>\n",
              "      <td>3</td>\n",
              "      <td>8</td>\n",
              "      <td>7</td>\n",
              "      <td>3</td>\n",
              "      <td>0</td>\n",
              "    </tr>\n",
              "    <tr>\n",
              "      <th>4</th>\n",
              "      <td>27</td>\n",
              "      <td>No</td>\n",
              "      <td>Travel_Rarely</td>\n",
              "      <td>591</td>\n",
              "      <td>Research &amp; Development</td>\n",
              "      <td>2</td>\n",
              "      <td>1</td>\n",
              "      <td>Medical</td>\n",
              "      <td>1</td>\n",
              "      <td>7</td>\n",
              "      <td>...</td>\n",
              "      <td>4</td>\n",
              "      <td>80</td>\n",
              "      <td>1</td>\n",
              "      <td>6</td>\n",
              "      <td>3</td>\n",
              "      <td>3</td>\n",
              "      <td>2</td>\n",
              "      <td>2</td>\n",
              "      <td>2</td>\n",
              "      <td>2</td>\n",
              "    </tr>\n",
              "  </tbody>\n",
              "</table>\n",
              "<p>5 rows × 35 columns</p>\n",
              "</div>\n",
              "      <button class=\"colab-df-convert\" onclick=\"convertToInteractive('df-5abe740d-491a-4ef1-a90c-c18610185c9d')\"\n",
              "              title=\"Convert this dataframe to an interactive table.\"\n",
              "              style=\"display:none;\">\n",
              "        \n",
              "  <svg xmlns=\"http://www.w3.org/2000/svg\" height=\"24px\"viewBox=\"0 0 24 24\"\n",
              "       width=\"24px\">\n",
              "    <path d=\"M0 0h24v24H0V0z\" fill=\"none\"/>\n",
              "    <path d=\"M18.56 5.44l.94 2.06.94-2.06 2.06-.94-2.06-.94-.94-2.06-.94 2.06-2.06.94zm-11 1L8.5 8.5l.94-2.06 2.06-.94-2.06-.94L8.5 2.5l-.94 2.06-2.06.94zm10 10l.94 2.06.94-2.06 2.06-.94-2.06-.94-.94-2.06-.94 2.06-2.06.94z\"/><path d=\"M17.41 7.96l-1.37-1.37c-.4-.4-.92-.59-1.43-.59-.52 0-1.04.2-1.43.59L10.3 9.45l-7.72 7.72c-.78.78-.78 2.05 0 2.83L4 21.41c.39.39.9.59 1.41.59.51 0 1.02-.2 1.41-.59l7.78-7.78 2.81-2.81c.8-.78.8-2.07 0-2.86zM5.41 20L4 18.59l7.72-7.72 1.47 1.35L5.41 20z\"/>\n",
              "  </svg>\n",
              "      </button>\n",
              "      \n",
              "  <style>\n",
              "    .colab-df-container {\n",
              "      display:flex;\n",
              "      flex-wrap:wrap;\n",
              "      gap: 12px;\n",
              "    }\n",
              "\n",
              "    .colab-df-convert {\n",
              "      background-color: #E8F0FE;\n",
              "      border: none;\n",
              "      border-radius: 50%;\n",
              "      cursor: pointer;\n",
              "      display: none;\n",
              "      fill: #1967D2;\n",
              "      height: 32px;\n",
              "      padding: 0 0 0 0;\n",
              "      width: 32px;\n",
              "    }\n",
              "\n",
              "    .colab-df-convert:hover {\n",
              "      background-color: #E2EBFA;\n",
              "      box-shadow: 0px 1px 2px rgba(60, 64, 67, 0.3), 0px 1px 3px 1px rgba(60, 64, 67, 0.15);\n",
              "      fill: #174EA6;\n",
              "    }\n",
              "\n",
              "    [theme=dark] .colab-df-convert {\n",
              "      background-color: #3B4455;\n",
              "      fill: #D2E3FC;\n",
              "    }\n",
              "\n",
              "    [theme=dark] .colab-df-convert:hover {\n",
              "      background-color: #434B5C;\n",
              "      box-shadow: 0px 1px 3px 1px rgba(0, 0, 0, 0.15);\n",
              "      filter: drop-shadow(0px 1px 2px rgba(0, 0, 0, 0.3));\n",
              "      fill: #FFFFFF;\n",
              "    }\n",
              "  </style>\n",
              "\n",
              "      <script>\n",
              "        const buttonEl =\n",
              "          document.querySelector('#df-5abe740d-491a-4ef1-a90c-c18610185c9d button.colab-df-convert');\n",
              "        buttonEl.style.display =\n",
              "          google.colab.kernel.accessAllowed ? 'block' : 'none';\n",
              "\n",
              "        async function convertToInteractive(key) {\n",
              "          const element = document.querySelector('#df-5abe740d-491a-4ef1-a90c-c18610185c9d');\n",
              "          const dataTable =\n",
              "            await google.colab.kernel.invokeFunction('convertToInteractive',\n",
              "                                                     [key], {});\n",
              "          if (!dataTable) return;\n",
              "\n",
              "          const docLinkHtml = 'Like what you see? Visit the ' +\n",
              "            '<a target=\"_blank\" href=https://colab.research.google.com/notebooks/data_table.ipynb>data table notebook</a>'\n",
              "            + ' to learn more about interactive tables.';\n",
              "          element.innerHTML = '';\n",
              "          dataTable['output_type'] = 'display_data';\n",
              "          await google.colab.output.renderOutput(dataTable, element);\n",
              "          const docLink = document.createElement('div');\n",
              "          docLink.innerHTML = docLinkHtml;\n",
              "          element.appendChild(docLink);\n",
              "        }\n",
              "      </script>\n",
              "    </div>\n",
              "  </div>\n",
              "  "
            ]
          },
          "metadata": {},
          "execution_count": 95
        }
      ]
    },
    {
      "cell_type": "code",
      "source": [
        "Employee_Attrition.info()"
      ],
      "metadata": {
        "id": "vKPS3DXba2KW"
      },
      "execution_count": null,
      "outputs": []
    },
    {
      "cell_type": "code",
      "source": [
        "# Data Cleaning\n",
        "Employee_Attrition['EducationLevel'] = Employee_Attrition['Education'].replace({1: 'Below College', 2: 'College', 3: 'Bachelors', 4: 'Masters', 5: 'Doctor'})"
      ],
      "metadata": {
        "id": "R8i4JGELqgMi"
      },
      "execution_count": 114,
      "outputs": []
    },
    {
      "cell_type": "markdown",
      "source": [
        "**Distribuition of employees across education levels**"
      ],
      "metadata": {
        "id": "7KWcWZSWb8un"
      }
    },
    {
      "cell_type": "code",
      "source": [
        "#Histogram\n",
        "education_counts = Employee_Attrition['EducationLevel'].value_counts()\n",
        "attrition_counts = Employee_Attrition['Attrition'].value_counts()\n",
        "\n",
        "fig, (ax1) = plt.subplots( figsize=(10,5))\n",
        "\n",
        "sns.barplot(x=education_counts.index, y=education_counts.values, ax=ax1)\n",
        "ax1.set_title('Education Level Counts')\n",
        "ax1.set_xlabel('Education Level')\n",
        "ax1.set_ylabel('Count')\n",
        "plt.show()\n"
      ],
      "metadata": {
        "colab": {
          "base_uri": "https://localhost:8080/",
          "height": 350
        },
        "id": "85bKSaxPBYWk",
        "outputId": "d3027f03-38b5-456c-8996-4467309bec22"
      },
      "execution_count": 99,
      "outputs": [
        {
          "output_type": "display_data",
          "data": {
            "text/plain": [
              "<Figure size 720x360 with 1 Axes>"
            ],
            "image/png": "[encoded data removed]"
          },
          "metadata": {}
        }
      ]
    },
    {
      "cell_type": "markdown",
      "source": [
        "The majority of the employees have a Bachelors degree"
      ],
      "metadata": {
        "id": "Q1XqtbYwcS01"
      }
    },
    {
      "cell_type": "markdown",
      "source": [
        "**Employee Attrition by Education Level**"
      ],
      "metadata": {
        "id": "6YEGMxUgdtbm"
      }
    },
    {
      "cell_type": "code",
      "source": [
        "# Pie chart\n",
        "plt.figure(figsize=(10,5))\n",
        "Employee_Attrition_Yes = Employee_Attrition[Employee_Attrition['Attrition'] == 'Yes']\n",
        "attrition_education_counts = Employee_Attrition_Yes['EducationLevel'].value_counts()\n",
        "plt.pie(attrition_education_counts, labels=attrition_education_counts.index, autopct='%1.1f%%')\n",
        "plt.title('Employee Attrition by Education Level')\n",
        "plt.show()\n"
      ],
      "metadata": {
        "id": "eZi4bq2rqgiI",
        "colab": {
          "base_uri": "https://localhost:8080/",
          "height": 319
        },
        "outputId": "18e7acce-d971-424e-b046-54dcd4003281"
      },
      "execution_count": 69,
      "outputs": [
        {
          "output_type": "display_data",
          "data": {
            "text/plain": [
              "<Figure size 720x360 with 1 Axes>"
            ],
            "image/png": "[encoded data removed]"
          },
          "metadata": {}
        }
      ]
    },
    {
      "cell_type": "markdown",
      "source": [
        "When considering all the employees who left the company, employees with a Bachelor's degree are the most in number and those with a Doctorate degree are the least in number"
      ],
      "metadata": {
        "id": "GsIOLbkwaEQo"
      }
    },
    {
      "cell_type": "code",
      "source": [
        "#100% stacked bar chart\n",
        "grouped = Employee_Attrition.groupby(['EducationLevel', 'Attrition']).size().unstack()\n",
        "\n",
        "totals = grouped.sum(axis=1)\n",
        "percentages = grouped.divide(totals, axis=0)\n",
        "\n",
        "colors = ['#00BA38', '#F8766D']\n",
        "\n",
        "ax = percentages.plot(kind='bar', stacked=True, figsize=(10, 6), color=colors)\n",
        "\n",
        "ax.set_xlabel('Education Level')\n",
        "ax.set_ylabel('Percentage')\n",
        "ax.set_title('Attrition by Education Level')\n",
        "\n",
        "#for container in ax.containers:\n",
        "#  ax.bar_label(container, label_type='edge')\n",
        "plt.show()\n"
      ],
      "metadata": {
        "colab": {
          "base_uri": "https://localhost:8080/",
          "height": 464
        },
        "id": "nd_Db-_dNiMX",
        "outputId": "6df12ca7-efd6-4d85-c6e5-054edd6f2de4"
      },
      "execution_count": 77,
      "outputs": [
        {
          "output_type": "display_data",
          "data": {
            "text/plain": [
              "<Figure size 720x432 with 1 Axes>"
            ],
            "image/png": "[encoded data removed]"
          },
          "metadata": {}
        }
      ]
    },
    {
      "cell_type": "markdown",
      "source": [
        "When considering the employees from each education level separately, we can see that attrition level is least for employees with Doctorate and highest for employees without a college degree"
      ],
      "metadata": {
        "id": "MHbEtXCzkTTh"
      }
    },
    {
      "cell_type": "markdown",
      "source": [
        "**Confounding Variables**"
      ],
      "metadata": {
        "id": "vFhVZs5BS_iQ"
      }
    },
    {
      "cell_type": "markdown",
      "source": [
        "***Work Life Balance***: Employees who have better work life balance may be less likely to leave the company, and they may also have higher levels of education."
      ],
      "metadata": {
        "id": "oOU8zdntkkzn"
      }
    },
    {
      "cell_type": "code",
      "source": [
        "#Inspecting work life balance as a confounding variable\n",
        "#Work life balance vs education\n",
        "Employee_Attrition['WorkLifeBalance'] = Employee_Attrition['WorkLifeBalance'].replace({1: '1.Bad', 2: '2.Good', 3: '3.Better', 4: '4.Best'})\n",
        "\n",
        "grouped = Employee_Attrition.groupby(['EducationLevel', 'WorkLifeBalance']).size().unstack()\n",
        "\n",
        "totals = grouped.sum(axis=1)\n",
        "percentages = grouped.divide(totals, axis=0)\n",
        "\n",
        "colors = ['#FF6962', \"#A8E4EF\", \"#FFD670\", '#7ABD91']\n",
        "\n",
        "ax = percentages.plot(kind='bar', stacked=True, figsize=(10, 6), color=colors)\n",
        "\n",
        "ax.set_xlabel('Education Level')\n",
        "ax.set_ylabel('')\n",
        "ax.set_title('Relationship between education and Work-life balance')\n",
        "\n",
        "plt.show()"
      ],
      "metadata": {
        "colab": {
          "base_uri": "https://localhost:8080/",
          "height": 464
        },
        "id": "CIaZ1uePHtdC",
        "outputId": "9ba49ff4-433d-43df-debf-db94638e09e1"
      },
      "execution_count": 122,
      "outputs": [
        {
          "output_type": "display_data",
          "data": {
            "text/plain": [
              "<Figure size 720x432 with 1 Axes>"
            ],
            "image/png": "[encoded data removed]"
          },
          "metadata": {}
        }
      ]
    },
    {
      "cell_type": "markdown",
      "source": [
        "Highest number of employees from the doctorate degree category report Good and Best work life balance"
      ],
      "metadata": {
        "id": "xNmnSNytawCy"
      }
    },
    {
      "cell_type": "code",
      "source": [
        "#Work life balance vs attrition\n",
        "grouped = Employee_Attrition.groupby([ 'WorkLifeBalance','Attrition']).size().unstack()\n",
        "\n",
        "totals = grouped.sum(axis=1)\n",
        "percentages = grouped.divide(totals, axis=0)\n",
        "\n",
        "ax = percentages.plot(kind='bar', stacked=True, figsize=(10, 6))\n",
        "\n",
        "ax.set_xlabel('Attrition')\n",
        "ax.set_ylabel('')\n",
        "ax.set_title('Relationship between attrition and Work-life balance')\n",
        "\n",
        "plt.show()"
      ],
      "metadata": {
        "colab": {
          "base_uri": "https://localhost:8080/",
          "height": 425
        },
        "id": "wGZBEAxUYTRq",
        "outputId": "fe109e50-86ed-4b16-b12d-63bca0df1cf8"
      },
      "execution_count": 87,
      "outputs": [
        {
          "output_type": "display_data",
          "data": {
            "text/plain": [
              "<Figure size 720x432 with 1 Axes>"
            ],
            "image/png": "[encoded data removed]"
          },
          "metadata": {}
        }
      ]
    },
    {
      "cell_type": "markdown",
      "source": [
        "As expected, employees that report a bad work life balance show the most number of attrition"
      ],
      "metadata": {
        "id": "oV9Ts6LFbBx8"
      }
    },
    {
      "cell_type": "markdown",
      "source": [
        "**Test of Statistical Significance**"
      ],
      "metadata": {
        "id": "f279K2uil2wG"
      }
    },
    {
      "cell_type": "markdown",
      "source": [
        "***Chi-Square test between education level and attrition***\n",
        "\n"
      ],
      "metadata": {
        "id": "NvGMRTB4mxug"
      }
    },
    {
      "cell_type": "code",
      "source": [
        "# Chi-Square test\n",
        "# Education level vs attrition\n",
        "df = Employee_Attrition\n",
        "x = df['EducationLevel'] # independent variable\n",
        "y = df['Attrition'] # dependent variable\n",
        "\n",
        "\n",
        "chi2, p, dof, expected = stats.chi2_contingency(pd.crosstab(x,y))\n",
        "print('Chi-square statistic =', chi2)\n",
        "print('p-value =', p)\n",
        "\n",
        "\n"
      ],
      "metadata": {
        "id": "ghXdwlz4qglF",
        "colab": {
          "base_uri": "https://localhost:8080/"
        },
        "outputId": "78ffcf3c-cfda-419d-b977-04c7143fec73"
      },
      "execution_count": 84,
      "outputs": [
        {
          "output_type": "stream",
          "name": "stdout",
          "text": [
            "Chi-square statistic = 3.0739613982367193\n",
            "p-value = 0.5455253376565949\n"
          ]
        }
      ]
    },
    {
      "cell_type": "markdown",
      "source": [
        "The p-value is greater than the 0.05.\n",
        "\n",
        "We retain the null hypothesis.\n",
        "\n",
        "We conclude that there is no statistically significant relationship between 'EducationLevel' and 'Attrition'."
      ],
      "metadata": {
        "id": "RDziVtbEWJiS"
      }
    },
    {
      "cell_type": "markdown",
      "source": [
        "***Chi-Square test between work life balance and attrition***"
      ],
      "metadata": {
        "id": "DnFEJ-rQm4ql"
      }
    },
    {
      "cell_type": "code",
      "source": [
        "# Work life balance vs attrition\n",
        "df = Employee_Attrition\n",
        "x = df['WorkLifeBalance'] # independent variable\n",
        "y = df['Attrition'] # dependent variable\n",
        "\n",
        "\n",
        "chi2, p, dof, expected = stats.chi2_contingency(pd.crosstab(x,y))\n",
        "print('Chi-square statistic =', chi2)\n",
        "print('p-value =', p)\n",
        "\n"
      ],
      "metadata": {
        "colab": {
          "base_uri": "https://localhost:8080/"
        },
        "id": "R3tRgl_MX5zG",
        "outputId": "f4dcfe0b-5406-4e5b-f565-7c169c377202"
      },
      "execution_count": 86,
      "outputs": [
        {
          "output_type": "stream",
          "name": "stdout",
          "text": [
            "Chi-square statistic = 16.3250970916474\n",
            "p-value = 0.0009725698845348824\n"
          ]
        }
      ]
    },
    {
      "cell_type": "markdown",
      "source": [
        "The p-value is less than 0.05, we can reject the null hypothesis and conclude that there is a statistically significant relationship between 'EducationLevel' and 'Attrition'.\n"
      ],
      "metadata": {
        "id": "eIBtiYl4YoNb"
      }
    },
    {
      "cell_type": "markdown",
      "source": [
        "**Data Source :**\n",
        "\n",
        "https://www.kaggle.com/datasets/pavansubhasht/ibm-hr-analytics-attrition-dataset?select=WA_Fn-UseC_-HR-Employee-Attrition.csv"
      ],
      "metadata": {
        "id": "60bPeRFRr3As"
      }
    }
  ]
}