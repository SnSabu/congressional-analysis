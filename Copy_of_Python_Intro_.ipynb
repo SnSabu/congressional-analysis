{
  "nbformat": 4,
  "nbformat_minor": 0,
  "metadata": {
    "colab": {
      "provenance": [],
      "include_colab_link": true
    },
    "kernelspec": {
      "name": "python3",
      "display_name": "Python 3"
    },
    "language_info": {
      "name": "python"
    }
  },
  "cells": [
    {
      "cell_type": "markdown",
      "metadata": {
        "id": "view-in-github",
        "colab_type": "text"
      },
      "source": [
        "<a href=\"https://colab.research.google.com/github/SnSabu/congressional-analysis/blob/main/Copy_of_Python_Intro_.ipynb\" target=\"_parent\"><img src=\"https://colab.research.google.com/assets/colab-badge.svg\" alt=\"Open In Colab\"/></a>"
      ]
    },
    {
      "cell_type": "markdown",
      "source": [
        "## **The Relationship between Political Parties and Median Age of States**"
      ],
      "metadata": {
        "id": "si4QpHMimQ-m"
      }
    },
    {
      "cell_type": "markdown",
      "source": [
        "By Sneha Sabu and Nidhi Athreya Mysore \n",
        "\n",
        "February 2023"
      ],
      "metadata": {
        "id": "3dfSfG1Jm2vY"
      }
    },
    {
      "cell_type": "markdown",
      "source": [
        "It is pretty established that the two parties: Republican, and Democrats are the major parties,dominating the political field in USA. These two parties, apart from being political competitors, advocate completely different ideals. \n",
        "The Republican Party has generally associated with socially conservative policies, although it does have dissenting centrist and libertarian factions. Social conservatives advocate for laws that uphold traditional family values, often rooted in Christianity. From workers' rights to protecting the environment, equal pay to fighting the special interests, Democrats believe we can and should make life better for families across our nation. fairness, justice, and equality for all by standing up for all middle-class Americans and those struggling to get there. After observing the difference in views and opinions, we wanted to know more about the age brackets of people voting for the above two parties. We wanted to observe whether people of later generations voted largely for Democratic party, as they advocate for a free,liberal USA.\n",
        "So below is an analysis of the age bracket voting for Republican, Democrats and Libertarian.\n",
        "\n",
        "\n",
        "**Hypothesis:**  We think that there is a significant difference in ages of people affiliated with different political parties. Our hypothesis is that younger people belonging to the 18-40 age bracket largely vote for Democrats.\n"
      ],
      "metadata": {
        "id": "nNCuyMT7Nly-"
      }
    },
    {
      "cell_type": "markdown",
      "source": [
        "**Importing Libraries**"
      ],
      "metadata": {
        "id": "pl4nkm8Y-8qQ"
      }
    },
    {
      "cell_type": "code",
      "source": [
        "# first some initial setup of libraries we will be using\n",
        "import pandas as pd # this is the main library used in python for manipulating data. \n",
        "import json # this is a library to parse json (javascript object notation)\n",
        "from urllib.request import urlopen # library to read data from a URL\n",
        "import matplotlib.pyplot as plt # visualization library we will use that integrates with pandas\n",
        "import seaborn as sns\n",
        "import scipy.stats as stats"
      ],
      "metadata": {
        "id": "vcGTiglqotaW"
      },
      "execution_count": 90,
      "outputs": []
    },
    {
      "cell_type": "markdown",
      "source": [
        "**Data for Median Ages of States**"
      ],
      "metadata": {
        "id": "mds02gZqAe8V"
      }
    },
    {
      "cell_type": "code",
      "execution_count": 91,
      "metadata": {
        "id": "kJ_pcCgtmr5D"
      },
      "outputs": [],
      "source": [
        "# We are reading in the data we want from ACS 2021. The API returns json data. Try copy and pasting the link yourself in a browser to see what the raw data looks like.\n",
        "\n",
        "url_Median_Age = \"https://api.census.gov/data/2021/acs/acs1?get=NAME,B01002_001E,B01002_002E,B01002_003E&for=congressional%20district:*&in=state:*\"\n",
        "\n",
        "# store the response of URL\n",
        "response = urlopen(url_Median_Age)\n",
        "\n",
        "# storing the JSON response from url in data\n",
        "data_json = json.loads(response.read())\n",
        "data_json.pop(0) # the first row of data is header information which we don't need, so pop removes that from the dataset.\n",
        "\n",
        "# Hand populate the columns based on the variable descriptions census.gov documents here:\n",
        "# https://api.census.gov/data/2021/acs/acs1/variables.html. Note they correspond back to the variable names I included in the URL above.\n",
        "cols = ['District Name','Median Age','Male Median Age', 'Female Median Age', 'State code', 'district number']\n",
        "\n",
        "acs_df = pd.DataFrame(data_json, columns = cols)\n"
      ]
    },
    {
      "cell_type": "code",
      "source": [
        "\n",
        "# time to do some basic cleanup of the data. We will need to extract the district number and state in a regular format so we can later join with the party data.\n",
        "acs_df[['District', 'State']] = acs_df['District Name'].str.split(',', expand=True)\n",
        "acs_df['district number'] = pd.to_numeric(acs_df['district number'])\n",
        "\n",
        "acs_df['State'] = acs_df['State'].str.strip()\n",
        "\n",
        "# Let's just keep the columns we need\n",
        "acs_df = acs_df[['Median Age','Male Median Age', 'Female Median Age', 'district number', 'State']]\n",
        "# Convert the number columns into number data types so we can do math on them\n",
        "acs_df[\"Median Age\"] = pd.to_numeric(acs_df[\"Median Age\"])\n",
        "acs_df[\"Male Median Age\"] = pd.to_numeric(acs_df[\"Male Median Age\"])\n",
        "acs_df['Female Median Age'] = pd.to_numeric(acs_df['Female Median Age'])\n",
        "\n",
        "# now let's look at the data again\n",
        "acs_df.head()"
      ],
      "metadata": {
        "colab": {
          "base_uri": "https://localhost:8080/",
          "height": 519
        },
        "id": "by8-ffbBCRaq",
        "outputId": "e13b0cbb-49b4-402a-ee85-34ecdee3139c"
      },
      "execution_count": 92,
      "outputs": [
        {
          "output_type": "stream",
          "name": "stderr",
          "text": [
            "<ipython-input-92-d7723b0755bf>:10: SettingWithCopyWarning: \n",
            "A value is trying to be set on a copy of a slice from a DataFrame.\n",
            "Try using .loc[row_indexer,col_indexer] = value instead\n",
            "\n",
            "See the caveats in the documentation: https://pandas.pydata.org/pandas-docs/stable/user_guide/indexing.html#returning-a-view-versus-a-copy\n",
            "  acs_df[\"Median Age\"] = pd.to_numeric(acs_df[\"Median Age\"])\n",
            "<ipython-input-92-d7723b0755bf>:11: SettingWithCopyWarning: \n",
            "A value is trying to be set on a copy of a slice from a DataFrame.\n",
            "Try using .loc[row_indexer,col_indexer] = value instead\n",
            "\n",
            "See the caveats in the documentation: https://pandas.pydata.org/pandas-docs/stable/user_guide/indexing.html#returning-a-view-versus-a-copy\n",
            "  acs_df[\"Male Median Age\"] = pd.to_numeric(acs_df[\"Male Median Age\"])\n",
            "<ipython-input-92-d7723b0755bf>:12: SettingWithCopyWarning: \n",
            "A value is trying to be set on a copy of a slice from a DataFrame.\n",
            "Try using .loc[row_indexer,col_indexer] = value instead\n",
            "\n",
            "See the caveats in the documentation: https://pandas.pydata.org/pandas-docs/stable/user_guide/indexing.html#returning-a-view-versus-a-copy\n",
            "  acs_df['Female Median Age'] = pd.to_numeric(acs_df['Female Median Age'])\n"
          ]
        },
        {
          "output_type": "execute_result",
          "data": {
            "text/plain": [
              "   Median Age  Male Median Age  Female Median Age  district number    State\n",
              "0        41.1             39.4               42.6                1  Alabama\n",
              "1        39.2             37.9               40.7                2  Alabama\n",
              "2        39.4             38.4               40.2                3  Alabama\n",
              "3        40.7             39.5               42.0                4  Alabama\n",
              "4        40.3             39.6               41.1                5  Alabama"
            ],
            "text/html": [
              "\n",
              "  <div id=\"df-07f2aec6-43f7-4034-a57b-558a59468212\">\n",
              "    <div class=\"colab-df-container\">\n",
              "      <div>\n",
              "<style scoped>\n",
              "    .dataframe tbody tr th:only-of-type {\n",
              "        vertical-align: middle;\n",
              "    }\n",
              "\n",
              "    .dataframe tbody tr th {\n",
              "        vertical-align: top;\n",
              "    }\n",
              "\n",
              "    .dataframe thead th {\n",
              "        text-align: right;\n",
              "    }\n",
              "</style>\n",
              "<table border=\"1\" class=\"dataframe\">\n",
              "  <thead>\n",
              "    <tr style=\"text-align: right;\">\n",
              "      <th></th>\n",
              "      <th>Median Age</th>\n",
              "      <th>Male Median Age</th>\n",
              "      <th>Female Median Age</th>\n",
              "      <th>district number</th>\n",
              "      <th>State</th>\n",
              "    </tr>\n",
              "  </thead>\n",
              "  <tbody>\n",
              "    <tr>\n",
              "      <th>0</th>\n",
              "      <td>41.1</td>\n",
              "      <td>39.4</td>\n",
              "      <td>42.6</td>\n",
              "      <td>1</td>\n",
              "      <td>Alabama</td>\n",
              "    </tr>\n",
              "    <tr>\n",
              "      <th>1</th>\n",
              "      <td>39.2</td>\n",
              "      <td>37.9</td>\n",
              "      <td>40.7</td>\n",
              "      <td>2</td>\n",
              "      <td>Alabama</td>\n",
              "    </tr>\n",
              "    <tr>\n",
              "      <th>2</th>\n",
              "      <td>39.4</td>\n",
              "      <td>38.4</td>\n",
              "      <td>40.2</td>\n",
              "      <td>3</td>\n",
              "      <td>Alabama</td>\n",
              "    </tr>\n",
              "    <tr>\n",
              "      <th>3</th>\n",
              "      <td>40.7</td>\n",
              "      <td>39.5</td>\n",
              "      <td>42.0</td>\n",
              "      <td>4</td>\n",
              "      <td>Alabama</td>\n",
              "    </tr>\n",
              "    <tr>\n",
              "      <th>4</th>\n",
              "      <td>40.3</td>\n",
              "      <td>39.6</td>\n",
              "      <td>41.1</td>\n",
              "      <td>5</td>\n",
              "      <td>Alabama</td>\n",
              "    </tr>\n",
              "  </tbody>\n",
              "</table>\n",
              "</div>\n",
              "      <button class=\"colab-df-convert\" onclick=\"convertToInteractive('df-07f2aec6-43f7-4034-a57b-558a59468212')\"\n",
              "              title=\"Convert this dataframe to an interactive table.\"\n",
              "              style=\"display:none;\">\n",
              "        \n",
              "  <svg xmlns=\"http://www.w3.org/2000/svg\" height=\"24px\"viewBox=\"0 0 24 24\"\n",
              "       width=\"24px\">\n",
              "    <path d=\"M0 0h24v24H0V0z\" fill=\"none\"/>\n",
              "    <path d=\"M18.56 5.44l.94 2.06.94-2.06 2.06-.94-2.06-.94-.94-2.06-.94 2.06-2.06.94zm-11 1L8.5 8.5l.94-2.06 2.06-.94-2.06-.94L8.5 2.5l-.94 2.06-2.06.94zm10 10l.94 2.06.94-2.06 2.06-.94-2.06-.94-.94-2.06-.94 2.06-2.06.94z\"/><path d=\"M17.41 7.96l-1.37-1.37c-.4-.4-.92-.59-1.43-.59-.52 0-1.04.2-1.43.59L10.3 9.45l-7.72 7.72c-.78.78-.78 2.05 0 2.83L4 21.41c.39.39.9.59 1.41.59.51 0 1.02-.2 1.41-.59l7.78-7.78 2.81-2.81c.8-.78.8-2.07 0-2.86zM5.41 20L4 18.59l7.72-7.72 1.47 1.35L5.41 20z\"/>\n",
              "  </svg>\n",
              "      </button>\n",
              "      \n",
              "  <style>\n",
              "    .colab-df-container {\n",
              "      display:flex;\n",
              "      flex-wrap:wrap;\n",
              "      gap: 12px;\n",
              "    }\n",
              "\n",
              "    .colab-df-convert {\n",
              "      background-color: #E8F0FE;\n",
              "      border: none;\n",
              "      border-radius: 50%;\n",
              "      cursor: pointer;\n",
              "      display: none;\n",
              "      fill: #1967D2;\n",
              "      height: 32px;\n",
              "      padding: 0 0 0 0;\n",
              "      width: 32px;\n",
              "    }\n",
              "\n",
              "    .colab-df-convert:hover {\n",
              "      background-color: #E2EBFA;\n",
              "      box-shadow: 0px 1px 2px rgba(60, 64, 67, 0.3), 0px 1px 3px 1px rgba(60, 64, 67, 0.15);\n",
              "      fill: #174EA6;\n",
              "    }\n",
              "\n",
              "    [theme=dark] .colab-df-convert {\n",
              "      background-color: #3B4455;\n",
              "      fill: #D2E3FC;\n",
              "    }\n",
              "\n",
              "    [theme=dark] .colab-df-convert:hover {\n",
              "      background-color: #434B5C;\n",
              "      box-shadow: 0px 1px 3px 1px rgba(0, 0, 0, 0.15);\n",
              "      filter: drop-shadow(0px 1px 2px rgba(0, 0, 0, 0.3));\n",
              "      fill: #FFFFFF;\n",
              "    }\n",
              "  </style>\n",
              "\n",
              "      <script>\n",
              "        const buttonEl =\n",
              "          document.querySelector('#df-07f2aec6-43f7-4034-a57b-558a59468212 button.colab-df-convert');\n",
              "        buttonEl.style.display =\n",
              "          google.colab.kernel.accessAllowed ? 'block' : 'none';\n",
              "\n",
              "        async function convertToInteractive(key) {\n",
              "          const element = document.querySelector('#df-07f2aec6-43f7-4034-a57b-558a59468212');\n",
              "          const dataTable =\n",
              "            await google.colab.kernel.invokeFunction('convertToInteractive',\n",
              "                                                     [key], {});\n",
              "          if (!dataTable) return;\n",
              "\n",
              "          const docLinkHtml = 'Like what you see? Visit the ' +\n",
              "            '<a target=\"_blank\" href=https://colab.research.google.com/notebooks/data_table.ipynb>data table notebook</a>'\n",
              "            + ' to learn more about interactive tables.';\n",
              "          element.innerHTML = '';\n",
              "          dataTable['output_type'] = 'display_data';\n",
              "          await google.colab.output.renderOutput(dataTable, element);\n",
              "          const docLink = document.createElement('div');\n",
              "          docLink.innerHTML = docLinkHtml;\n",
              "          element.appendChild(docLink);\n",
              "        }\n",
              "      </script>\n",
              "    </div>\n",
              "  </div>\n",
              "  "
            ]
          },
          "metadata": {},
          "execution_count": 92
        }
      ]
    },
    {
      "cell_type": "code",
      "source": [
        "acs_df['State'].value_counts().head()"
      ],
      "metadata": {
        "colab": {
          "base_uri": "https://localhost:8080/"
        },
        "id": "F3Y_W3qvH0or",
        "outputId": "86ffa348-a823-42f2-d1d0-63de7889399c"
      },
      "execution_count": 93,
      "outputs": [
        {
          "output_type": "execute_result",
          "data": {
            "text/plain": [
              "California      53\n",
              "Texas           36\n",
              "Florida         27\n",
              "New York        27\n",
              "Pennsylvania    18\n",
              "Name: State, dtype: int64"
            ]
          },
          "metadata": {},
          "execution_count": 93
        }
      ]
    },
    {
      "cell_type": "markdown",
      "source": [
        "**Data for Party Affiliation of States**"
      ],
      "metadata": {
        "id": "jwO_e7XeAr7c"
      }
    },
    {
      "cell_type": "code",
      "source": [
        "# read from the congressional data and put into a pandas dataframe\n",
        "party_df = pd.read_csv(\"http://goodcsv.com/wp-content/uploads/2020/08/us-house-of-representatives-2020.csv\", encoding = \"ISO-8859-1\")\n",
        "\n",
        "# extract the district number from the data (it was in the format of 5th and we want that to just be 5) using a regular expression.\n",
        "party_df['district number'] = party_df['District/Position'].str.extract('(\\d+)')\n",
        "party_df['district number'] = party_df['district number'].fillna(0)\n",
        "party_df['district number'] = pd.to_numeric(party_df['district number'])\n",
        "party_df['State'] = party_df['State/Territory']\n",
        "party_df['State'] = party_df['State'].str.strip()\n",
        "party_df['Party'] = party_df['Party'].str.strip() # remove extraneous whitespace\n",
        "\n",
        "# Let's just keep the columns we need\n",
        "party_df = party_df[['State', 'Party', \"district number\"]]\n",
        "\n",
        "party_df.head(5)\n"
      ],
      "metadata": {
        "colab": {
          "base_uri": "https://localhost:8080/",
          "height": 206
        },
        "id": "gTwiSD9mGxuQ",
        "outputId": "405aaf1e-40e9-4d14-ef68-5c5bd2f245da"
      },
      "execution_count": 94,
      "outputs": [
        {
          "output_type": "execute_result",
          "data": {
            "text/plain": [
              "            State Party  district number\n",
              "0       Louisiana     R                5\n",
              "1  North Carolina     D               12\n",
              "2         Alabama     R                4\n",
              "3      California     D               31\n",
              "4         Georgia     R               12"
            ],
            "text/html": [
              "\n",
              "  <div id=\"df-6d72a550-802c-4380-b587-91ea14f19d1c\">\n",
              "    <div class=\"colab-df-container\">\n",
              "      <div>\n",
              "<style scoped>\n",
              "    .dataframe tbody tr th:only-of-type {\n",
              "        vertical-align: middle;\n",
              "    }\n",
              "\n",
              "    .dataframe tbody tr th {\n",
              "        vertical-align: top;\n",
              "    }\n",
              "\n",
              "    .dataframe thead th {\n",
              "        text-align: right;\n",
              "    }\n",
              "</style>\n",
              "<table border=\"1\" class=\"dataframe\">\n",
              "  <thead>\n",
              "    <tr style=\"text-align: right;\">\n",
              "      <th></th>\n",
              "      <th>State</th>\n",
              "      <th>Party</th>\n",
              "      <th>district number</th>\n",
              "    </tr>\n",
              "  </thead>\n",
              "  <tbody>\n",
              "    <tr>\n",
              "      <th>0</th>\n",
              "      <td>Louisiana</td>\n",
              "      <td>R</td>\n",
              "      <td>5</td>\n",
              "    </tr>\n",
              "    <tr>\n",
              "      <th>1</th>\n",
              "      <td>North Carolina</td>\n",
              "      <td>D</td>\n",
              "      <td>12</td>\n",
              "    </tr>\n",
              "    <tr>\n",
              "      <th>2</th>\n",
              "      <td>Alabama</td>\n",
              "      <td>R</td>\n",
              "      <td>4</td>\n",
              "    </tr>\n",
              "    <tr>\n",
              "      <th>3</th>\n",
              "      <td>California</td>\n",
              "      <td>D</td>\n",
              "      <td>31</td>\n",
              "    </tr>\n",
              "    <tr>\n",
              "      <th>4</th>\n",
              "      <td>Georgia</td>\n",
              "      <td>R</td>\n",
              "      <td>12</td>\n",
              "    </tr>\n",
              "  </tbody>\n",
              "</table>\n",
              "</div>\n",
              "      <button class=\"colab-df-convert\" onclick=\"convertToInteractive('df-6d72a550-802c-4380-b587-91ea14f19d1c')\"\n",
              "              title=\"Convert this dataframe to an interactive table.\"\n",
              "              style=\"display:none;\">\n",
              "        \n",
              "  <svg xmlns=\"http://www.w3.org/2000/svg\" height=\"24px\"viewBox=\"0 0 24 24\"\n",
              "       width=\"24px\">\n",
              "    <path d=\"M0 0h24v24H0V0z\" fill=\"none\"/>\n",
              "    <path d=\"M18.56 5.44l.94 2.06.94-2.06 2.06-.94-2.06-.94-.94-2.06-.94 2.06-2.06.94zm-11 1L8.5 8.5l.94-2.06 2.06-.94-2.06-.94L8.5 2.5l-.94 2.06-2.06.94zm10 10l.94 2.06.94-2.06 2.06-.94-2.06-.94-.94-2.06-.94 2.06-2.06.94z\"/><path d=\"M17.41 7.96l-1.37-1.37c-.4-.4-.92-.59-1.43-.59-.52 0-1.04.2-1.43.59L10.3 9.45l-7.72 7.72c-.78.78-.78 2.05 0 2.83L4 21.41c.39.39.9.59 1.41.59.51 0 1.02-.2 1.41-.59l7.78-7.78 2.81-2.81c.8-.78.8-2.07 0-2.86zM5.41 20L4 18.59l7.72-7.72 1.47 1.35L5.41 20z\"/>\n",
              "  </svg>\n",
              "      </button>\n",
              "      \n",
              "  <style>\n",
              "    .colab-df-container {\n",
              "      display:flex;\n",
              "      flex-wrap:wrap;\n",
              "      gap: 12px;\n",
              "    }\n",
              "\n",
              "    .colab-df-convert {\n",
              "      background-color: #E8F0FE;\n",
              "      border: none;\n",
              "      border-radius: 50%;\n",
              "      cursor: pointer;\n",
              "      display: none;\n",
              "      fill: #1967D2;\n",
              "      height: 32px;\n",
              "      padding: 0 0 0 0;\n",
              "      width: 32px;\n",
              "    }\n",
              "\n",
              "    .colab-df-convert:hover {\n",
              "      background-color: #E2EBFA;\n",
              "      box-shadow: 0px 1px 2px rgba(60, 64, 67, 0.3), 0px 1px 3px 1px rgba(60, 64, 67, 0.15);\n",
              "      fill: #174EA6;\n",
              "    }\n",
              "\n",
              "    [theme=dark] .colab-df-convert {\n",
              "      background-color: #3B4455;\n",
              "      fill: #D2E3FC;\n",
              "    }\n",
              "\n",
              "    [theme=dark] .colab-df-convert:hover {\n",
              "      background-color: #434B5C;\n",
              "      box-shadow: 0px 1px 3px 1px rgba(0, 0, 0, 0.15);\n",
              "      filter: drop-shadow(0px 1px 2px rgba(0, 0, 0, 0.3));\n",
              "      fill: #FFFFFF;\n",
              "    }\n",
              "  </style>\n",
              "\n",
              "      <script>\n",
              "        const buttonEl =\n",
              "          document.querySelector('#df-6d72a550-802c-4380-b587-91ea14f19d1c button.colab-df-convert');\n",
              "        buttonEl.style.display =\n",
              "          google.colab.kernel.accessAllowed ? 'block' : 'none';\n",
              "\n",
              "        async function convertToInteractive(key) {\n",
              "          const element = document.querySelector('#df-6d72a550-802c-4380-b587-91ea14f19d1c');\n",
              "          const dataTable =\n",
              "            await google.colab.kernel.invokeFunction('convertToInteractive',\n",
              "                                                     [key], {});\n",
              "          if (!dataTable) return;\n",
              "\n",
              "          const docLinkHtml = 'Like what you see? Visit the ' +\n",
              "            '<a target=\"_blank\" href=https://colab.research.google.com/notebooks/data_table.ipynb>data table notebook</a>'\n",
              "            + ' to learn more about interactive tables.';\n",
              "          element.innerHTML = '';\n",
              "          dataTable['output_type'] = 'display_data';\n",
              "          await google.colab.output.renderOutput(dataTable, element);\n",
              "          const docLink = document.createElement('div');\n",
              "          docLink.innerHTML = docLinkHtml;\n",
              "          element.appendChild(docLink);\n",
              "        }\n",
              "      </script>\n",
              "    </div>\n",
              "  </div>\n",
              "  "
            ]
          },
          "metadata": {},
          "execution_count": 94
        }
      ]
    },
    {
      "cell_type": "code",
      "source": [
        "party_df['State'].value_counts().head()"
      ],
      "metadata": {
        "colab": {
          "base_uri": "https://localhost:8080/"
        },
        "id": "RIW7D49iHrHN",
        "outputId": "c9f384b3-e289-41ef-d818-b5081ba91787"
      },
      "execution_count": 95,
      "outputs": [
        {
          "output_type": "execute_result",
          "data": {
            "text/plain": [
              "California      53\n",
              "Texas           36\n",
              "New York        27\n",
              "Florida         27\n",
              "Pennsylvania    18\n",
              "Name: State, dtype: int64"
            ]
          },
          "metadata": {},
          "execution_count": 95
        }
      ]
    },
    {
      "cell_type": "markdown",
      "source": [
        "**Merging Median Age with Party Data**"
      ],
      "metadata": {
        "id": "CmZ_nGYLRi8j"
      }
    },
    {
      "cell_type": "code",
      "source": [
        "# Merge is like a sql natural join. We are joining on the State and District numbers being the same between the two sets.\n",
        "merged_df = pd.merge(acs_df, party_df, on=[\"State\", \"district number\"])"
      ],
      "metadata": {
        "id": "cxeXrehBH9g1"
      },
      "execution_count": 97,
      "outputs": []
    },
    {
      "cell_type": "code",
      "source": [
        "merged_df.head()"
      ],
      "metadata": {
        "colab": {
          "base_uri": "https://localhost:8080/",
          "height": 206
        },
        "id": "XkajSU0FIC-W",
        "outputId": "4997ee46-0f25-48cb-ee7b-3ec1cb9c6c01"
      },
      "execution_count": 98,
      "outputs": [
        {
          "output_type": "execute_result",
          "data": {
            "text/plain": [
              "   Median Age  Male Median Age  Female Median Age  district number    State  \\\n",
              "0        41.1             39.4               42.6                1  Alabama   \n",
              "1        39.2             37.9               40.7                2  Alabama   \n",
              "2        39.4             38.4               40.2                3  Alabama   \n",
              "3        40.7             39.5               42.0                4  Alabama   \n",
              "4        40.3             39.6               41.1                5  Alabama   \n",
              "\n",
              "  Party  \n",
              "0     R  \n",
              "1     R  \n",
              "2     R  \n",
              "3     R  \n",
              "4     R  "
            ],
            "text/html": [
              "\n",
              "  <div id=\"df-98d0f6f6-7e5e-4a5f-b196-3e93c9385cbf\">\n",
              "    <div class=\"colab-df-container\">\n",
              "      <div>\n",
              "<style scoped>\n",
              "    .dataframe tbody tr th:only-of-type {\n",
              "        vertical-align: middle;\n",
              "    }\n",
              "\n",
              "    .dataframe tbody tr th {\n",
              "        vertical-align: top;\n",
              "    }\n",
              "\n",
              "    .dataframe thead th {\n",
              "        text-align: right;\n",
              "    }\n",
              "</style>\n",
              "<table border=\"1\" class=\"dataframe\">\n",
              "  <thead>\n",
              "    <tr style=\"text-align: right;\">\n",
              "      <th></th>\n",
              "      <th>Median Age</th>\n",
              "      <th>Male Median Age</th>\n",
              "      <th>Female Median Age</th>\n",
              "      <th>district number</th>\n",
              "      <th>State</th>\n",
              "      <th>Party</th>\n",
              "    </tr>\n",
              "  </thead>\n",
              "  <tbody>\n",
              "    <tr>\n",
              "      <th>0</th>\n",
              "      <td>41.1</td>\n",
              "      <td>39.4</td>\n",
              "      <td>42.6</td>\n",
              "      <td>1</td>\n",
              "      <td>Alabama</td>\n",
              "      <td>R</td>\n",
              "    </tr>\n",
              "    <tr>\n",
              "      <th>1</th>\n",
              "      <td>39.2</td>\n",
              "      <td>37.9</td>\n",
              "      <td>40.7</td>\n",
              "      <td>2</td>\n",
              "      <td>Alabama</td>\n",
              "      <td>R</td>\n",
              "    </tr>\n",
              "    <tr>\n",
              "      <th>2</th>\n",
              "      <td>39.4</td>\n",
              "      <td>38.4</td>\n",
              "      <td>40.2</td>\n",
              "      <td>3</td>\n",
              "      <td>Alabama</td>\n",
              "      <td>R</td>\n",
              "    </tr>\n",
              "    <tr>\n",
              "      <th>3</th>\n",
              "      <td>40.7</td>\n",
              "      <td>39.5</td>\n",
              "      <td>42.0</td>\n",
              "      <td>4</td>\n",
              "      <td>Alabama</td>\n",
              "      <td>R</td>\n",
              "    </tr>\n",
              "    <tr>\n",
              "      <th>4</th>\n",
              "      <td>40.3</td>\n",
              "      <td>39.6</td>\n",
              "      <td>41.1</td>\n",
              "      <td>5</td>\n",
              "      <td>Alabama</td>\n",
              "      <td>R</td>\n",
              "    </tr>\n",
              "  </tbody>\n",
              "</table>\n",
              "</div>\n",
              "      <button class=\"colab-df-convert\" onclick=\"convertToInteractive('df-98d0f6f6-7e5e-4a5f-b196-3e93c9385cbf')\"\n",
              "              title=\"Convert this dataframe to an interactive table.\"\n",
              "              style=\"display:none;\">\n",
              "        \n",
              "  <svg xmlns=\"http://www.w3.org/2000/svg\" height=\"24px\"viewBox=\"0 0 24 24\"\n",
              "       width=\"24px\">\n",
              "    <path d=\"M0 0h24v24H0V0z\" fill=\"none\"/>\n",
              "    <path d=\"M18.56 5.44l.94 2.06.94-2.06 2.06-.94-2.06-.94-.94-2.06-.94 2.06-2.06.94zm-11 1L8.5 8.5l.94-2.06 2.06-.94-2.06-.94L8.5 2.5l-.94 2.06-2.06.94zm10 10l.94 2.06.94-2.06 2.06-.94-2.06-.94-.94-2.06-.94 2.06-2.06.94z\"/><path d=\"M17.41 7.96l-1.37-1.37c-.4-.4-.92-.59-1.43-.59-.52 0-1.04.2-1.43.59L10.3 9.45l-7.72 7.72c-.78.78-.78 2.05 0 2.83L4 21.41c.39.39.9.59 1.41.59.51 0 1.02-.2 1.41-.59l7.78-7.78 2.81-2.81c.8-.78.8-2.07 0-2.86zM5.41 20L4 18.59l7.72-7.72 1.47 1.35L5.41 20z\"/>\n",
              "  </svg>\n",
              "      </button>\n",
              "      \n",
              "  <style>\n",
              "    .colab-df-container {\n",
              "      display:flex;\n",
              "      flex-wrap:wrap;\n",
              "      gap: 12px;\n",
              "    }\n",
              "\n",
              "    .colab-df-convert {\n",
              "      background-color: #E8F0FE;\n",
              "      border: none;\n",
              "      border-radius: 50%;\n",
              "      cursor: pointer;\n",
              "      display: none;\n",
              "      fill: #1967D2;\n",
              "      height: 32px;\n",
              "      padding: 0 0 0 0;\n",
              "      width: 32px;\n",
              "    }\n",
              "\n",
              "    .colab-df-convert:hover {\n",
              "      background-color: #E2EBFA;\n",
              "      box-shadow: 0px 1px 2px rgba(60, 64, 67, 0.3), 0px 1px 3px 1px rgba(60, 64, 67, 0.15);\n",
              "      fill: #174EA6;\n",
              "    }\n",
              "\n",
              "    [theme=dark] .colab-df-convert {\n",
              "      background-color: #3B4455;\n",
              "      fill: #D2E3FC;\n",
              "    }\n",
              "\n",
              "    [theme=dark] .colab-df-convert:hover {\n",
              "      background-color: #434B5C;\n",
              "      box-shadow: 0px 1px 3px 1px rgba(0, 0, 0, 0.15);\n",
              "      filter: drop-shadow(0px 1px 2px rgba(0, 0, 0, 0.3));\n",
              "      fill: #FFFFFF;\n",
              "    }\n",
              "  </style>\n",
              "\n",
              "      <script>\n",
              "        const buttonEl =\n",
              "          document.querySelector('#df-98d0f6f6-7e5e-4a5f-b196-3e93c9385cbf button.colab-df-convert');\n",
              "        buttonEl.style.display =\n",
              "          google.colab.kernel.accessAllowed ? 'block' : 'none';\n",
              "\n",
              "        async function convertToInteractive(key) {\n",
              "          const element = document.querySelector('#df-98d0f6f6-7e5e-4a5f-b196-3e93c9385cbf');\n",
              "          const dataTable =\n",
              "            await google.colab.kernel.invokeFunction('convertToInteractive',\n",
              "                                                     [key], {});\n",
              "          if (!dataTable) return;\n",
              "\n",
              "          const docLinkHtml = 'Like what you see? Visit the ' +\n",
              "            '<a target=\"_blank\" href=https://colab.research.google.com/notebooks/data_table.ipynb>data table notebook</a>'\n",
              "            + ' to learn more about interactive tables.';\n",
              "          element.innerHTML = '';\n",
              "          dataTable['output_type'] = 'display_data';\n",
              "          await google.colab.output.renderOutput(dataTable, element);\n",
              "          const docLink = document.createElement('div');\n",
              "          docLink.innerHTML = docLinkHtml;\n",
              "          element.appendChild(docLink);\n",
              "        }\n",
              "      </script>\n",
              "    </div>\n",
              "  </div>\n",
              "  "
            ]
          },
          "metadata": {},
          "execution_count": 98
        }
      ]
    },
    {
      "cell_type": "code",
      "source": [
        "#Checking whether the State names are unique\n",
        "merged_df['State'].nunique()"
      ],
      "metadata": {
        "colab": {
          "base_uri": "https://localhost:8080/"
        },
        "id": "WFy2Yw1VIN_X",
        "outputId": "ef590bd0-8b24-4b85-9114-ca09c11a4347"
      },
      "execution_count": 99,
      "outputs": [
        {
          "output_type": "execute_result",
          "data": {
            "text/plain": [
              "50"
            ]
          },
          "metadata": {},
          "execution_count": 99
        }
      ]
    },
    {
      "cell_type": "code",
      "source": [
        "#Sorting out the data of median ages:\n",
        "\n",
        "merged_df.sort_values(by = ['Male Median Age', 'Female Median Age'], ascending = [True, True], na_position = 'first').head(10)"
      ],
      "metadata": {
        "colab": {
          "base_uri": "https://localhost:8080/",
          "height": 363
        },
        "id": "M6N453Dg0EI5",
        "outputId": "0840df91-1599-4bcf-bbdd-5bfe95e2ac6d"
      },
      "execution_count": 100,
      "outputs": [
        {
          "output_type": "execute_result",
          "data": {
            "text/plain": [
              "     Median Age  Male Median Age  Female Median Age  district number  \\\n",
              "399        29.4             28.9               30.2                3   \n",
              "41         30.6             30.8               30.3               21   \n",
              "36         31.8             30.9               32.6               16   \n",
              "14         31.2             31.0               31.4                7   \n",
              "375        32.0             31.0               33.2               15   \n",
              "388        32.6             31.1               34.7               28   \n",
              "400        31.6             31.3               32.0                4   \n",
              "397        31.8             31.4               32.3                1   \n",
              "376        32.9             31.5               34.5               16   \n",
              "271        33.8             31.5               35.8               15   \n",
              "\n",
              "          State Party  \n",
              "399        Utah     R  \n",
              "41   California     D  \n",
              "36   California     D  \n",
              "14      Arizona     D  \n",
              "375       Texas     D  \n",
              "388       Texas     D  \n",
              "400        Utah     D  \n",
              "397        Utah     R  \n",
              "376       Texas     D  \n",
              "271    New York     D  "
            ],
            "text/html": [
              "\n",
              "  <div id=\"df-f7885480-441b-4445-9996-17be82f6cbc3\">\n",
              "    <div class=\"colab-df-container\">\n",
              "      <div>\n",
              "<style scoped>\n",
              "    .dataframe tbody tr th:only-of-type {\n",
              "        vertical-align: middle;\n",
              "    }\n",
              "\n",
              "    .dataframe tbody tr th {\n",
              "        vertical-align: top;\n",
              "    }\n",
              "\n",
              "    .dataframe thead th {\n",
              "        text-align: right;\n",
              "    }\n",
              "</style>\n",
              "<table border=\"1\" class=\"dataframe\">\n",
              "  <thead>\n",
              "    <tr style=\"text-align: right;\">\n",
              "      <th></th>\n",
              "      <th>Median Age</th>\n",
              "      <th>Male Median Age</th>\n",
              "      <th>Female Median Age</th>\n",
              "      <th>district number</th>\n",
              "      <th>State</th>\n",
              "      <th>Party</th>\n",
              "    </tr>\n",
              "  </thead>\n",
              "  <tbody>\n",
              "    <tr>\n",
              "      <th>399</th>\n",
              "      <td>29.4</td>\n",
              "      <td>28.9</td>\n",
              "      <td>30.2</td>\n",
              "      <td>3</td>\n",
              "      <td>Utah</td>\n",
              "      <td>R</td>\n",
              "    </tr>\n",
              "    <tr>\n",
              "      <th>41</th>\n",
              "      <td>30.6</td>\n",
              "      <td>30.8</td>\n",
              "      <td>30.3</td>\n",
              "      <td>21</td>\n",
              "      <td>California</td>\n",
              "      <td>D</td>\n",
              "    </tr>\n",
              "    <tr>\n",
              "      <th>36</th>\n",
              "      <td>31.8</td>\n",
              "      <td>30.9</td>\n",
              "      <td>32.6</td>\n",
              "      <td>16</td>\n",
              "      <td>California</td>\n",
              "      <td>D</td>\n",
              "    </tr>\n",
              "    <tr>\n",
              "      <th>14</th>\n",
              "      <td>31.2</td>\n",
              "      <td>31.0</td>\n",
              "      <td>31.4</td>\n",
              "      <td>7</td>\n",
              "      <td>Arizona</td>\n",
              "      <td>D</td>\n",
              "    </tr>\n",
              "    <tr>\n",
              "      <th>375</th>\n",
              "      <td>32.0</td>\n",
              "      <td>31.0</td>\n",
              "      <td>33.2</td>\n",
              "      <td>15</td>\n",
              "      <td>Texas</td>\n",
              "      <td>D</td>\n",
              "    </tr>\n",
              "    <tr>\n",
              "      <th>388</th>\n",
              "      <td>32.6</td>\n",
              "      <td>31.1</td>\n",
              "      <td>34.7</td>\n",
              "      <td>28</td>\n",
              "      <td>Texas</td>\n",
              "      <td>D</td>\n",
              "    </tr>\n",
              "    <tr>\n",
              "      <th>400</th>\n",
              "      <td>31.6</td>\n",
              "      <td>31.3</td>\n",
              "      <td>32.0</td>\n",
              "      <td>4</td>\n",
              "      <td>Utah</td>\n",
              "      <td>D</td>\n",
              "    </tr>\n",
              "    <tr>\n",
              "      <th>397</th>\n",
              "      <td>31.8</td>\n",
              "      <td>31.4</td>\n",
              "      <td>32.3</td>\n",
              "      <td>1</td>\n",
              "      <td>Utah</td>\n",
              "      <td>R</td>\n",
              "    </tr>\n",
              "    <tr>\n",
              "      <th>376</th>\n",
              "      <td>32.9</td>\n",
              "      <td>31.5</td>\n",
              "      <td>34.5</td>\n",
              "      <td>16</td>\n",
              "      <td>Texas</td>\n",
              "      <td>D</td>\n",
              "    </tr>\n",
              "    <tr>\n",
              "      <th>271</th>\n",
              "      <td>33.8</td>\n",
              "      <td>31.5</td>\n",
              "      <td>35.8</td>\n",
              "      <td>15</td>\n",
              "      <td>New York</td>\n",
              "      <td>D</td>\n",
              "    </tr>\n",
              "  </tbody>\n",
              "</table>\n",
              "</div>\n",
              "      <button class=\"colab-df-convert\" onclick=\"convertToInteractive('df-f7885480-441b-4445-9996-17be82f6cbc3')\"\n",
              "              title=\"Convert this dataframe to an interactive table.\"\n",
              "              style=\"display:none;\">\n",
              "        \n",
              "  <svg xmlns=\"http://www.w3.org/2000/svg\" height=\"24px\"viewBox=\"0 0 24 24\"\n",
              "       width=\"24px\">\n",
              "    <path d=\"M0 0h24v24H0V0z\" fill=\"none\"/>\n",
              "    <path d=\"M18.56 5.44l.94 2.06.94-2.06 2.06-.94-2.06-.94-.94-2.06-.94 2.06-2.06.94zm-11 1L8.5 8.5l.94-2.06 2.06-.94-2.06-.94L8.5 2.5l-.94 2.06-2.06.94zm10 10l.94 2.06.94-2.06 2.06-.94-2.06-.94-.94-2.06-.94 2.06-2.06.94z\"/><path d=\"M17.41 7.96l-1.37-1.37c-.4-.4-.92-.59-1.43-.59-.52 0-1.04.2-1.43.59L10.3 9.45l-7.72 7.72c-.78.78-.78 2.05 0 2.83L4 21.41c.39.39.9.59 1.41.59.51 0 1.02-.2 1.41-.59l7.78-7.78 2.81-2.81c.8-.78.8-2.07 0-2.86zM5.41 20L4 18.59l7.72-7.72 1.47 1.35L5.41 20z\"/>\n",
              "  </svg>\n",
              "      </button>\n",
              "      \n",
              "  <style>\n",
              "    .colab-df-container {\n",
              "      display:flex;\n",
              "      flex-wrap:wrap;\n",
              "      gap: 12px;\n",
              "    }\n",
              "\n",
              "    .colab-df-convert {\n",
              "      background-color: #E8F0FE;\n",
              "      border: none;\n",
              "      border-radius: 50%;\n",
              "      cursor: pointer;\n",
              "      display: none;\n",
              "      fill: #1967D2;\n",
              "      height: 32px;\n",
              "      padding: 0 0 0 0;\n",
              "      width: 32px;\n",
              "    }\n",
              "\n",
              "    .colab-df-convert:hover {\n",
              "      background-color: #E2EBFA;\n",
              "      box-shadow: 0px 1px 2px rgba(60, 64, 67, 0.3), 0px 1px 3px 1px rgba(60, 64, 67, 0.15);\n",
              "      fill: #174EA6;\n",
              "    }\n",
              "\n",
              "    [theme=dark] .colab-df-convert {\n",
              "      background-color: #3B4455;\n",
              "      fill: #D2E3FC;\n",
              "    }\n",
              "\n",
              "    [theme=dark] .colab-df-convert:hover {\n",
              "      background-color: #434B5C;\n",
              "      box-shadow: 0px 1px 3px 1px rgba(0, 0, 0, 0.15);\n",
              "      filter: drop-shadow(0px 1px 2px rgba(0, 0, 0, 0.3));\n",
              "      fill: #FFFFFF;\n",
              "    }\n",
              "  </style>\n",
              "\n",
              "      <script>\n",
              "        const buttonEl =\n",
              "          document.querySelector('#df-f7885480-441b-4445-9996-17be82f6cbc3 button.colab-df-convert');\n",
              "        buttonEl.style.display =\n",
              "          google.colab.kernel.accessAllowed ? 'block' : 'none';\n",
              "\n",
              "        async function convertToInteractive(key) {\n",
              "          const element = document.querySelector('#df-f7885480-441b-4445-9996-17be82f6cbc3');\n",
              "          const dataTable =\n",
              "            await google.colab.kernel.invokeFunction('convertToInteractive',\n",
              "                                                     [key], {});\n",
              "          if (!dataTable) return;\n",
              "\n",
              "          const docLinkHtml = 'Like what you see? Visit the ' +\n",
              "            '<a target=\"_blank\" href=https://colab.research.google.com/notebooks/data_table.ipynb>data table notebook</a>'\n",
              "            + ' to learn more about interactive tables.';\n",
              "          element.innerHTML = '';\n",
              "          dataTable['output_type'] = 'display_data';\n",
              "          await google.colab.output.renderOutput(dataTable, element);\n",
              "          const docLink = document.createElement('div');\n",
              "          docLink.innerHTML = docLinkHtml;\n",
              "          element.appendChild(docLink);\n",
              "        }\n",
              "      </script>\n",
              "    </div>\n",
              "  </div>\n",
              "  "
            ]
          },
          "metadata": {},
          "execution_count": 100
        }
      ]
    },
    {
      "cell_type": "code",
      "source": [
        "#Merging the above two datasets:\n",
        "\n",
        "merged_df.sort_values(by = ['Male Median Age', 'Female Median Age'], ascending = [False, False], na_position = 'first').head(10)"
      ],
      "metadata": {
        "id": "6lV5jhqc0peO",
        "outputId": "6ee8b843-1c6f-4a47-8333-2f593e6479fe",
        "colab": {
          "base_uri": "https://localhost:8080/",
          "height": 363
        }
      },
      "execution_count": 101,
      "outputs": [
        {
          "output_type": "execute_result",
          "data": {
            "text/plain": [
              "     Median Age  Male Median Age  Female Median Age  district number  \\\n",
              "97         55.4             53.4               57.1               11   \n",
              "103        53.9             52.5               55.1               17   \n",
              "105        51.8             50.7               52.8               19   \n",
              "104        48.7             47.1               50.0               18   \n",
              "92         48.9             46.9               50.5                6   \n",
              "99         48.4             46.9               49.7               13   \n",
              "94         48.9             46.6               50.5                8   \n",
              "11         48.5             46.2               49.9                4   \n",
              "198        47.1             45.2               48.6                1   \n",
              "197        46.5             44.9               48.3                9   \n",
              "\n",
              "             State Party  \n",
              "97         Florida     R  \n",
              "103        Florida     R  \n",
              "105        Florida     R  \n",
              "104        Florida     R  \n",
              "92         Florida     R  \n",
              "99         Florida     D  \n",
              "94         Florida     R  \n",
              "11         Arizona     R  \n",
              "198       Michigan     R  \n",
              "197  Massachusetts     D  "
            ],
            "text/html": [
              "\n",
              "  <div id=\"df-cb9a02b5-7067-4533-b0ed-a05885002ae2\">\n",
              "    <div class=\"colab-df-container\">\n",
              "      <div>\n",
              "<style scoped>\n",
              "    .dataframe tbody tr th:only-of-type {\n",
              "        vertical-align: middle;\n",
              "    }\n",
              "\n",
              "    .dataframe tbody tr th {\n",
              "        vertical-align: top;\n",
              "    }\n",
              "\n",
              "    .dataframe thead th {\n",
              "        text-align: right;\n",
              "    }\n",
              "</style>\n",
              "<table border=\"1\" class=\"dataframe\">\n",
              "  <thead>\n",
              "    <tr style=\"text-align: right;\">\n",
              "      <th></th>\n",
              "      <th>Median Age</th>\n",
              "      <th>Male Median Age</th>\n",
              "      <th>Female Median Age</th>\n",
              "      <th>district number</th>\n",
              "      <th>State</th>\n",
              "      <th>Party</th>\n",
              "    </tr>\n",
              "  </thead>\n",
              "  <tbody>\n",
              "    <tr>\n",
              "      <th>97</th>\n",
              "      <td>55.4</td>\n",
              "      <td>53.4</td>\n",
              "      <td>57.1</td>\n",
              "      <td>11</td>\n",
              "      <td>Florida</td>\n",
              "      <td>R</td>\n",
              "    </tr>\n",
              "    <tr>\n",
              "      <th>103</th>\n",
              "      <td>53.9</td>\n",
              "      <td>52.5</td>\n",
              "      <td>55.1</td>\n",
              "      <td>17</td>\n",
              "      <td>Florida</td>\n",
              "      <td>R</td>\n",
              "    </tr>\n",
              "    <tr>\n",
              "      <th>105</th>\n",
              "      <td>51.8</td>\n",
              "      <td>50.7</td>\n",
              "      <td>52.8</td>\n",
              "      <td>19</td>\n",
              "      <td>Florida</td>\n",
              "      <td>R</td>\n",
              "    </tr>\n",
              "    <tr>\n",
              "      <th>104</th>\n",
              "      <td>48.7</td>\n",
              "      <td>47.1</td>\n",
              "      <td>50.0</td>\n",
              "      <td>18</td>\n",
              "      <td>Florida</td>\n",
              "      <td>R</td>\n",
              "    </tr>\n",
              "    <tr>\n",
              "      <th>92</th>\n",
              "      <td>48.9</td>\n",
              "      <td>46.9</td>\n",
              "      <td>50.5</td>\n",
              "      <td>6</td>\n",
              "      <td>Florida</td>\n",
              "      <td>R</td>\n",
              "    </tr>\n",
              "    <tr>\n",
              "      <th>99</th>\n",
              "      <td>48.4</td>\n",
              "      <td>46.9</td>\n",
              "      <td>49.7</td>\n",
              "      <td>13</td>\n",
              "      <td>Florida</td>\n",
              "      <td>D</td>\n",
              "    </tr>\n",
              "    <tr>\n",
              "      <th>94</th>\n",
              "      <td>48.9</td>\n",
              "      <td>46.6</td>\n",
              "      <td>50.5</td>\n",
              "      <td>8</td>\n",
              "      <td>Florida</td>\n",
              "      <td>R</td>\n",
              "    </tr>\n",
              "    <tr>\n",
              "      <th>11</th>\n",
              "      <td>48.5</td>\n",
              "      <td>46.2</td>\n",
              "      <td>49.9</td>\n",
              "      <td>4</td>\n",
              "      <td>Arizona</td>\n",
              "      <td>R</td>\n",
              "    </tr>\n",
              "    <tr>\n",
              "      <th>198</th>\n",
              "      <td>47.1</td>\n",
              "      <td>45.2</td>\n",
              "      <td>48.6</td>\n",
              "      <td>1</td>\n",
              "      <td>Michigan</td>\n",
              "      <td>R</td>\n",
              "    </tr>\n",
              "    <tr>\n",
              "      <th>197</th>\n",
              "      <td>46.5</td>\n",
              "      <td>44.9</td>\n",
              "      <td>48.3</td>\n",
              "      <td>9</td>\n",
              "      <td>Massachusetts</td>\n",
              "      <td>D</td>\n",
              "    </tr>\n",
              "  </tbody>\n",
              "</table>\n",
              "</div>\n",
              "      <button class=\"colab-df-convert\" onclick=\"convertToInteractive('df-cb9a02b5-7067-4533-b0ed-a05885002ae2')\"\n",
              "              title=\"Convert this dataframe to an interactive table.\"\n",
              "              style=\"display:none;\">\n",
              "        \n",
              "  <svg xmlns=\"http://www.w3.org/2000/svg\" height=\"24px\"viewBox=\"0 0 24 24\"\n",
              "       width=\"24px\">\n",
              "    <path d=\"M0 0h24v24H0V0z\" fill=\"none\"/>\n",
              "    <path d=\"M18.56 5.44l.94 2.06.94-2.06 2.06-.94-2.06-.94-.94-2.06-.94 2.06-2.06.94zm-11 1L8.5 8.5l.94-2.06 2.06-.94-2.06-.94L8.5 2.5l-.94 2.06-2.06.94zm10 10l.94 2.06.94-2.06 2.06-.94-2.06-.94-.94-2.06-.94 2.06-2.06.94z\"/><path d=\"M17.41 7.96l-1.37-1.37c-.4-.4-.92-.59-1.43-.59-.52 0-1.04.2-1.43.59L10.3 9.45l-7.72 7.72c-.78.78-.78 2.05 0 2.83L4 21.41c.39.39.9.59 1.41.59.51 0 1.02-.2 1.41-.59l7.78-7.78 2.81-2.81c.8-.78.8-2.07 0-2.86zM5.41 20L4 18.59l7.72-7.72 1.47 1.35L5.41 20z\"/>\n",
              "  </svg>\n",
              "      </button>\n",
              "      \n",
              "  <style>\n",
              "    .colab-df-container {\n",
              "      display:flex;\n",
              "      flex-wrap:wrap;\n",
              "      gap: 12px;\n",
              "    }\n",
              "\n",
              "    .colab-df-convert {\n",
              "      background-color: #E8F0FE;\n",
              "      border: none;\n",
              "      border-radius: 50%;\n",
              "      cursor: pointer;\n",
              "      display: none;\n",
              "      fill: #1967D2;\n",
              "      height: 32px;\n",
              "      padding: 0 0 0 0;\n",
              "      width: 32px;\n",
              "    }\n",
              "\n",
              "    .colab-df-convert:hover {\n",
              "      background-color: #E2EBFA;\n",
              "      box-shadow: 0px 1px 2px rgba(60, 64, 67, 0.3), 0px 1px 3px 1px rgba(60, 64, 67, 0.15);\n",
              "      fill: #174EA6;\n",
              "    }\n",
              "\n",
              "    [theme=dark] .colab-df-convert {\n",
              "      background-color: #3B4455;\n",
              "      fill: #D2E3FC;\n",
              "    }\n",
              "\n",
              "    [theme=dark] .colab-df-convert:hover {\n",
              "      background-color: #434B5C;\n",
              "      box-shadow: 0px 1px 3px 1px rgba(0, 0, 0, 0.15);\n",
              "      filter: drop-shadow(0px 1px 2px rgba(0, 0, 0, 0.3));\n",
              "      fill: #FFFFFF;\n",
              "    }\n",
              "  </style>\n",
              "\n",
              "      <script>\n",
              "        const buttonEl =\n",
              "          document.querySelector('#df-cb9a02b5-7067-4533-b0ed-a05885002ae2 button.colab-df-convert');\n",
              "        buttonEl.style.display =\n",
              "          google.colab.kernel.accessAllowed ? 'block' : 'none';\n",
              "\n",
              "        async function convertToInteractive(key) {\n",
              "          const element = document.querySelector('#df-cb9a02b5-7067-4533-b0ed-a05885002ae2');\n",
              "          const dataTable =\n",
              "            await google.colab.kernel.invokeFunction('convertToInteractive',\n",
              "                                                     [key], {});\n",
              "          if (!dataTable) return;\n",
              "\n",
              "          const docLinkHtml = 'Like what you see? Visit the ' +\n",
              "            '<a target=\"_blank\" href=https://colab.research.google.com/notebooks/data_table.ipynb>data table notebook</a>'\n",
              "            + ' to learn more about interactive tables.';\n",
              "          element.innerHTML = '';\n",
              "          dataTable['output_type'] = 'display_data';\n",
              "          await google.colab.output.renderOutput(dataTable, element);\n",
              "          const docLink = document.createElement('div');\n",
              "          docLink.innerHTML = docLinkHtml;\n",
              "          element.appendChild(docLink);\n",
              "        }\n",
              "      </script>\n",
              "    </div>\n",
              "  </div>\n",
              "  "
            ]
          },
          "metadata": {},
          "execution_count": 101
        }
      ]
    },
    {
      "cell_type": "markdown",
      "source": [
        "**Median Age Distributition**"
      ],
      "metadata": {
        "id": "zIkC8SJ3Rsqd"
      }
    },
    {
      "cell_type": "code",
      "source": [
        "sns.displot(merged_df, x=\"Median Age\", kind = \"kde\", color = \"orange\", rug = True, multiple=\"stack\")\n"
      ],
      "metadata": {
        "colab": {
          "base_uri": "https://localhost:8080/",
          "height": 386
        },
        "id": "QsWITcQ_vnFC",
        "outputId": "2b834286-5349-428e-f61e-18664b86a841"
      },
      "execution_count": 102,
      "outputs": [
        {
          "output_type": "execute_result",
          "data": {
            "text/plain": [
              "<seaborn.axisgrid.FacetGrid at 0x7fa5871d6fa0>"
            ]
          },
          "metadata": {},
          "execution_count": 102
        },
        {
          "output_type": "display_data",
          "data": {
            "text/plain": [
              "<Figure size 360x360 with 1 Axes>"
            ],
            "image/png": "[encoded data removed]"
          },
          "metadata": {}
        }
      ]
    },
    {
      "cell_type": "markdown",
      "source": [
        "**Median Age vs Political Affiliation**"
      ],
      "metadata": {
        "id": "ZwWmgbCsRyVR"
      }
    },
    {
      "cell_type": "code",
      "source": [
        "#Plotting a graph for the three parties:\n",
        "\n",
        "plt.figure(figsize=(15,12))\n",
        "party_colors=['#FF0000', '#0000FF','#FFFF00']\n",
        "sns.set_palette(party_colors)\n",
        "sns.boxplot(x='Party', y='Median Age',data=merged_df)\n",
        "sns.swarmplot(x='Party', y='Median Age',data=merged_df, dodge='True', color='grey', alpha=.8, s=4)\n",
        "plt.title(\"Median Age by Party\")"
      ],
      "metadata": {
        "colab": {
          "base_uri": "https://localhost:8080/",
          "height": 747
        },
        "id": "AdggRJDX9YdD",
        "outputId": "ccc71f2c-7ce7-4c24-8028-af8fbd3885eb"
      },
      "execution_count": 103,
      "outputs": [
        {
          "output_type": "execute_result",
          "data": {
            "text/plain": [
              "Text(0.5, 1.0, 'Median Age by Party')"
            ]
          },
          "metadata": {},
          "execution_count": 103
        },
        {
          "output_type": "display_data",
          "data": {
            "text/plain": [
              "<Figure size 1080x864 with 1 Axes>"
            ],
            "image/png": "[encoded data removed]"
          },
          "metadata": {}
        }
      ]
    },
    {
      "cell_type": "markdown",
      "source": [
        "The graph showed us that people belonging to 25-40 age bracket mostly voted for democrats, and people who were 45 plus, voted in maximum for the republican party.  "
      ],
      "metadata": {
        "id": "wEBgKze_YgSn"
      }
    },
    {
      "cell_type": "markdown",
      "source": [
        "**Anova Statistical Test**"
      ],
      "metadata": {
        "id": "Fa8SjiGXVbqM"
      }
    },
    {
      "cell_type": "code",
      "source": [
        "# Perform the one-way ANOVA test for statistical significance :\n",
        "\n",
        "# stats f_oneway functions takes the groups as input and returns ANOVA F and p value\n",
        "f_value, p_value = stats.f_oneway(merged_df['Median Age'][merged_df['Party'] == 'R'],\n",
        "               merged_df['Median Age'][merged_df['Party'] == 'D'],\n",
        "               merged_df['Median Age'][merged_df['Party'] == 'L'])\n",
        "print(f_value, p_value)\n",
        "\n",
        "#f_value, p_value = stats.f_oneway(party_a, party_b, party_c)\n",
        "\n",
        "# Print the results\n",
        "print(\"F-value: \", f_value)\n",
        "print(\"P-value: \", p_value)\n",
        "\n",
        "# Check if the results are statistically significant\n",
        "alpha = 0.05\n",
        "if p_value < alpha:\n",
        "    print(\"The results are statistically significant (p < 0.05). Reject the null hypothesis\")\n",
        "else:\n",
        "    print(\"The results are not statistically significant (p >= 0.05). Retain the null hypothesis\")\n"
      ],
      "metadata": {
        "id": "rveMtchRDJXI",
        "colab": {
          "base_uri": "https://localhost:8080/"
        },
        "outputId": "5b080f86-d3e2-438a-be5e-aba474cba2cb"
      },
      "execution_count": 104,
      "outputs": [
        {
          "output_type": "stream",
          "name": "stdout",
          "text": [
            "9.478092036200367 9.364193601029661e-05\n",
            "F-value:  9.478092036200367\n",
            "P-value:  9.364193601029661e-05\n",
            "The results are statistically significant (p < 0.05). Reject the null hypothesis\n"
          ]
        }
      ]
    },
    {
      "cell_type": "markdown",
      "source": [
        "**Confounding Variables**"
      ],
      "metadata": {
        "id": "Ngws2_JvQw7Z"
      }
    },
    {
      "cell_type": "markdown",
      "source": [
        "***Participation of citizens:*** People from the older generation might not be participating in the elections and those who place their votes might be largly voting for one party. This will skew the results drastically."
      ],
      "metadata": {
        "id": "8jdrO9AmUnem"
      }
    },
    {
      "cell_type": "code",
      "source": [
        "merged_df['Median Age Buckets'] = pd.cut(merged_df['Median Age'], [0,21,37,53,72,110], labels=(\"Generation Z\",\"Millenial\", \"Generation X\", \"Baby Boomer\", \"Silent Generation\"))\n",
        "merged_df.groupby('Median Age Buckets').size()"
      ],
      "metadata": {
        "colab": {
          "base_uri": "https://localhost:8080/"
        },
        "id": "9hYEzS7wPzsR",
        "outputId": "6ada5073-8d80-4154-fbe1-2630f88595a6"
      },
      "execution_count": 105,
      "outputs": [
        {
          "output_type": "execute_result",
          "data": {
            "text/plain": [
              "Median Age Buckets\n",
              "Generation Z           0\n",
              "Millenial            110\n",
              "Generation X         323\n",
              "Baby Boomer            2\n",
              "Silent Generation      0\n",
              "dtype: int64"
            ]
          },
          "metadata": {},
          "execution_count": 105
        }
      ]
    },
    {
      "cell_type": "code",
      "source": [
        "colors = {'R': '#FF0000', 'D': '#0000FF','L':'#FFFF00'}\n",
        "sns.histplot(data=merged_df, x=\"Median Age Buckets\", hue = 'Party',binwidth=3, palette = colors)"
      ],
      "metadata": {
        "colab": {
          "base_uri": "https://localhost:8080/",
          "height": 296
        },
        "id": "SlGBN-J3T-VD",
        "outputId": "2974e616-4eec-4e83-9984-e088f197e264"
      },
      "execution_count": 106,
      "outputs": [
        {
          "output_type": "execute_result",
          "data": {
            "text/plain": [
              "<matplotlib.axes._subplots.AxesSubplot at 0x7fa5871059a0>"
            ]
          },
          "metadata": {},
          "execution_count": 106
        },
        {
          "output_type": "display_data",
          "data": {
            "text/plain": [
              "<Figure size 432x288 with 1 Axes>"
            ],
            "image/png": "[encoded data removed]"
          },
          "metadata": {}
        }
      ]
    },
    {
      "cell_type": "markdown",
      "source": [
        "Our initial hypothesis was to check whether people of ages who voted for democrats maximally, irrespective of gender, belonged to 25-40 age bracket. We wanted to test this hypothesis as people voting for democrats generally belong to a more liberal sense of thought, and belong to later generations. To test this hypothesis, we explored the median-age dataset. We cleaned the data, later bucketed the median ages into five groups. The graph showed us that people belonging to 25-40 age bracket mostly voted for democrats, and people who were 45 plus, voted in maximum for the republican party. But we conducted the ANOVA test, we saw that the p-value<0.05 thus, we reject the null hypothesis. Thus,we can conclude that there is a statistically significant difference between the groups and their median ages. People of 25-40 age bracket necessarily do not largely vote for Democrats. Inevitably, this forces us to ask more questions, and perform more analysis. First, our concern is whether all the people of age vote. If there is a significantly large amount of people not voting, then it would directly affect both the age bracket we have assumed, and also decide the leading party in USA. This leads us to believe that the confounder variable is voting awareness amongst the youth and amongst the elderly.\n"
      ],
      "metadata": {
        "id": "akzeCZKiI0Sg"
      }
    },
    {
      "cell_type": "markdown",
      "source": [
        "**Data Sources:** \n",
        "\n",
        "For median age data:\n",
        "https://www.census.gov/data/developers/data-sets/acs-1year.html\n",
        "\n",
        "For party data:\n",
        "http://goodcsv.com/wp-content/uploads/2020/08/us-house-of-representatives-2020.csv\n",
        "\n",
        "For Anova Test: https://www.pythonfordatascience.org/anova-python/\n"
      ],
      "metadata": {
        "id": "7E9cdHBAoLf1"
      }
    }
  ]
}