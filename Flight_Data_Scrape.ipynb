{
  "nbformat": 4,
  "nbformat_minor": 0,
  "metadata": {
    "colab": {
      "provenance": [],
      "authorship_tag": "ABX9TyO7myVxxl7a5VsWeyNVg7KN",
      "include_colab_link": true
    },
    "kernelspec": {
      "name": "python3",
      "display_name": "Python 3"
    },
    "language_info": {
      "name": "python"
    }
  },
  "cells": [
    {
      "cell_type": "markdown",
      "metadata": {
        "id": "view-in-github",
        "colab_type": "text"
      },
      "source": [
        "<a href=\"https://colab.research.google.com/github/SnSabu/congressional-analysis/blob/main/Flight_Data_Scrape.ipynb\" target=\"_parent\"><img src=\"https://colab.research.google.com/assets/colab-badge.svg\" alt=\"Open In Colab\"/></a>"
      ]
    },
    {
      "cell_type": "markdown",
      "source": [
        "Using Duffel"
      ],
      "metadata": {
        "id": "pE-qbaz2R81y"
      }
    },
    {
      "cell_type": "code",
      "source": [
        "!pip install duffel-api"
      ],
      "metadata": {
        "colab": {
          "base_uri": "https://localhost:8080/"
        },
        "id": "Xo3EXtFTGKMK",
        "outputId": "403773f2-98e6-490f-e5d4-0a97cc2a94cf"
      },
      "execution_count": 1,
      "outputs": [
        {
          "output_type": "stream",
          "name": "stdout",
          "text": [
            "Looking in indexes: https://pypi.org/simple, https://us-python.pkg.dev/colab-wheels/public/simple/\n",
            "Collecting duffel-api\n",
            "  Downloading duffel_api-0.5.0-py3-none-any.whl (68 kB)\n",
            "\u001b[2K     \u001b[90m━━━━━━━━━━━━━━━━━━━━━━━━━━━━━━━━━━━━━━━━\u001b[0m \u001b[32m68.4/68.4 KB\u001b[0m \u001b[31m1.1 MB/s\u001b[0m eta \u001b[36m0:00:00\u001b[0m\n",
            "\u001b[?25hRequirement already satisfied: requests>=2.25 in /usr/local/lib/python3.8/dist-packages (from duffel-api) (2.25.1)\n",
            "Requirement already satisfied: urllib3<1.27,>=1.21.1 in /usr/local/lib/python3.8/dist-packages (from requests>=2.25->duffel-api) (1.24.3)\n",
            "Requirement already satisfied: idna<3,>=2.5 in /usr/local/lib/python3.8/dist-packages (from requests>=2.25->duffel-api) (2.10)\n",
            "Requirement already satisfied: certifi>=2017.4.17 in /usr/local/lib/python3.8/dist-packages (from requests>=2.25->duffel-api) (2022.12.7)\n",
            "Requirement already satisfied: chardet<5,>=3.0.2 in /usr/local/lib/python3.8/dist-packages (from requests>=2.25->duffel-api) (4.0.0)\n",
            "Installing collected packages: duffel-api\n",
            "Successfully installed duffel-api-0.5.0\n"
          ]
        }
      ]
    },
    {
      "cell_type": "code",
      "source": [
        "from duffel_api import Duffel\n",
        "\n",
        "#duffel_test_mSO5C-rVg_mIuSj_co7IND-CIcuZ_ak0I8M1X-jas3A\n",
        "access_token = 'duffel_test_mSO5C-rVg_mIuSj_co7IND-CIcuZ_ak0I8M1X-jas3A'\n",
        "client = Duffel(access_token = access_token)"
      ],
      "metadata": {
        "id": "4Z30m3efGM2o"
      },
      "execution_count": 3,
      "outputs": []
    },
    {
      "cell_type": "code",
      "source": [
        "from duffel_api import Duffel\n",
        "\n",
        "client = Duffel(access_token = 'duffel_test_mSO5C-rVg_mIuSj_co7IND-CIcuZ_ak0I8M1X-jas3A')\n",
        "\n",
        "offer_requests = client.offer_requests.list()\n",
        "for offer_request in offer_requests:\n",
        "    print(offer_request.id)"
      ],
      "metadata": {
        "colab": {
          "base_uri": "https://localhost:8080/"
        },
        "id": "9JY52bkxHR9G",
        "outputId": "c4e83678-2169-4b90-c2cf-3090cef1c037"
      },
      "execution_count": 4,
      "outputs": [
        {
          "output_type": "stream",
          "name": "stdout",
          "text": [
            "orq_0000AT0yiVf1NwLJ7NaK8G\n",
            "orq_0000AT0yiLoZzY2wa7yods\n"
          ]
        }
      ]
    },
    {
      "cell_type": "code",
      "source": [
        "slices = [\n",
        "  {\n",
        "    \"origin\": \"NYC\",\n",
        "    \"destination\": \"ATL\",\n",
        "    \"departure_date\": \"2023-03-21\"\n",
        "  },\n",
        "  {\n",
        "    \"origin\": \"ATL\",\n",
        "    \"destination\": \"NYC\",\n",
        "    \"departure_date\": \"2023-03-21\"\n",
        "  }\n",
        "]\n",
        "passengers = [{ \"type\": \"adult\" }, { \"type\": \"adult\" }, { \"age\": 1 }]\n",
        "client.offer_requests.create()\\\n",
        "  .slices(slices)\\\n",
        "  .passengers(passengers)\\\n",
        "  .cabin_class(\"business\")\\\n",
        "  .execute()"
      ],
      "metadata": {
        "colab": {
          "base_uri": "https://localhost:8080/"
        },
        "id": "lFU5reUzJlef",
        "outputId": "b8e64fac-bc6c-4548-8e43-6fbdb051a300"
      },
      "execution_count": 16,
      "outputs": [
        {
          "output_type": "execute_result",
          "data": {
            "text/plain": [
              "OfferRequest(id='orq_0000AT14A8ixxzU8mK5dQ0', live_mode=False, cabin_class='business', created_at=datetime.datetime(2023, 2, 24, 20, 55, 4, 462050), offers=[], slices=[OfferRequestSlice(destination_type='city', destination=City(id='cit_atl_us', name='Atlanta', iata_code='ATL', iata_country_code='US'), origin_type='city', origin=City(id='cit_nyc_us', name='New York', iata_code='NYC', iata_country_code='US'), departure_date=datetime.date(2023, 3, 21)), OfferRequestSlice(destination_type='city', destination=City(id='cit_nyc_us', name='New York', iata_code='NYC', iata_country_code='US'), origin_type='city', origin=City(id='cit_atl_us', name='Atlanta', iata_code='ATL', iata_country_code='US'), departure_date=datetime.date(2023, 3, 21))], passengers=[OfferRequestPassenger(id='pas_0000AT14A8ixxzU8mK5dQ3', age=None, type='adult', given_name=None, family_name=None, loyalty_programme_accounts=[]), OfferRequestPassenger(id='pas_0000AT14A8ixxzU8mK5dQ4', age=None, type='adult', given_name=None, family_name=None, loyalty_programme_accounts=[]), OfferRequestPassenger(id='pas_0000AT14A8ixxzU8mK5dQ5', age=1, type=None, given_name=None, family_name=None, loyalty_programme_accounts=[])])"
            ]
          },
          "metadata": {},
          "execution_count": 16
        }
      ]
    },
    {
      "cell_type": "code",
      "source": [
        "client.offers.list('orq_0000AT0yiVf1NwLJ7NaK8G', \"total_amount\", None)"
      ],
      "metadata": {
        "colab": {
          "base_uri": "https://localhost:8080/"
        },
        "id": "X_2CJWW6M4DJ",
        "outputId": "0f06af17-c8bc-43be-fb03-919f14dd8ded"
      },
      "execution_count": 22,
      "outputs": [
        {
          "output_type": "execute_result",
          "data": {
            "text/plain": [
              "<duffel_api.http_client.Pagination at 0x7f64932ddca0>"
            ]
          },
          "metadata": {},
          "execution_count": 22
        }
      ]
    },
    {
      "cell_type": "code",
      "source": [],
      "metadata": {
        "id": "BZsdSj7kW7-v"
      },
      "execution_count": null,
      "outputs": []
    },
    {
      "cell_type": "markdown",
      "source": [
        "Kayak Datascraping\n"
      ],
      "metadata": {
        "id": "LpQnrHtoW_Xe"
      }
    },
    {
      "cell_type": "markdown",
      "source": [
        "Webscraping using Beautiful Soup"
      ],
      "metadata": {
        "id": "4nuyeom5hZiE"
      }
    },
    {
      "cell_type": "code",
      "execution_count": null,
      "metadata": {
        "id": "MXChaYIMhT42"
      },
      "outputs": [],
      "source": [
        "import time\n",
        "import requests\n",
        "from bs4 import BeautifulSoup\n",
        "origin = \"LAX\"\n",
        "destination = \"SFO\"\n",
        "start_date = \"2023-03-19\"\n",
        "base_url = \"https://www.expedia.com/Flights-Search?flight-type=on&mode=search&trip=roundtrip&leg1=from%3ASan+Francisco+%28SFO+-+San+Francisco+Intl.%29%2Cto%3ALas+Vegas+%28LAS+-+Harry+Reid+Intl.%29%2Cdeparture%3A3%2F8%2F2023TANYT&options=cabinclass%3Aeconomy&leg2=from%3ALas+Vegas+%28LAS+-+Harry+Reid+Intl.%29%2Cto%3ASan+Francisco+%28SFO+-+San+Francisco+Intl.%29%2Cdeparture%3A3%2F9%2F2023TANYT&passengers=children%3A0%2Cadults%3A1%2Cseniors%3A0%2Cinfantinlap%3AY&fromDate=3%2F8%2F2023&toDate=3%2F9%2F2023&d1=2023-03-08&d2=2023-03-09\"\n",
        "url = f\"{base_url}/{origin}-{destination}/{start_date}?sort=bestflight_a\"\n",
        "url\n",
        "response = requests.get(base_url)\n",
        "time.sleep(1)\n",
        "response = requests.get(url)\n",
        "soup = BeautifulSoup(response.content, 'html.parser')\n",
        "soup"
      ]
    },
    {
      "cell_type": "code",
      "source": [
        "from selenium.common.exceptions import NoSuchElementException\n",
        "\n",
        "# Close cookies pop-up\n",
        "accept_cookies_xpath = '/html/body/div[12]/div/div[3]/div/div/div/div/div[1]/div/div[2]/div[2]/div[1]/button/span'\n",
        "\n",
        "try:\n",
        "   requests.find_element_by_xpath(accept_cookies_xpath).click()\n",
        "except NoSuchElementException:\n",
        "   pass"
      ],
      "metadata": {
        "id": "sxTGFXENtHZc"
      },
      "execution_count": null,
      "outputs": []
    },
    {
      "cell_type": "markdown",
      "source": [
        "Webscraping using selenium"
      ],
      "metadata": {
        "id": "FkB5rLiWhmxM"
      }
    },
    {
      "cell_type": "code",
      "source": [
        "!pip install selenium\n",
        "!apt-get update\n",
        "!apt-get install -y chromium-browser\n",
        "!apt install chromium-chromedriver\n",
        "from selenium import webdriver"
      ],
      "metadata": {
        "id": "MqAE8LCwhqET"
      },
      "execution_count": null,
      "outputs": []
    },
    {
      "cell_type": "code",
      "source": [
        "options = webdriver.ChromeOptions()\n",
        "options.add_argument('--no-sandbox')\n",
        "options.add_argument('--headless')\n",
        "options.add_argument('--disable-gpu')\n",
        "options.add_argument('--diable-dve-shm-uage')\n",
        "\n",
        "driver = webdriver.Chrome(executable_path='/usr/lib/chromium-browser/chromedriver', options = options)"
      ],
      "metadata": {
        "id": "qDCvFaURiHSD"
      },
      "execution_count": null,
      "outputs": []
    },
    {
      "cell_type": "code",
      "source": [
        "import requests\n",
        "\n",
        "url = \"https://skyscanner50.p.rapidapi.com/api/v1/searchAirport\"\n",
        "\n",
        "querystring = {\"query\":\"london\"}\n",
        "\n",
        "headers = {\n",
        "\t\"X-RapidAPI-Key\": \"e58dd894f7mshdb83450cb50f8c9p172875jsn5bbc9b76f61e\",\n",
        "\t\"X-RapidAPI-Host\": \"skyscanner50.p.rapidapi.com\"\n",
        "}\n",
        "\n",
        "response = requests.request(\"GET\", url, headers=headers, params=querystring)\n",
        "\n",
        "print(response.text)"
      ],
      "metadata": {
        "id": "sLiW-2QrHq5R",
        "outputId": "87b2bbf9-c5c0-408e-925d-7701147db5f3",
        "colab": {
          "base_uri": "https://localhost:8080/"
        }
      },
      "execution_count": null,
      "outputs": [
        {
          "output_type": "stream",
          "name": "stdout",
          "text": [
            "{\"message\":\"You are not subscribed to this API.\"}\n"
          ]
        }
      ]
    }
  ]
}