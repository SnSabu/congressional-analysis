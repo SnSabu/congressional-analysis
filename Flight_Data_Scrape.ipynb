{
  "nbformat": 4,
  "nbformat_minor": 0,
  "metadata": {
    "colab": {
      "provenance": [],
      "authorship_tag": "ABX9TyNTKhvPjTZ7ch2g31VwyaSr",
      "include_colab_link": true
    },
    "kernelspec": {
      "name": "python3",
      "display_name": "Python 3"
    },
    "language_info": {
      "name": "python"
    }
  },
  "cells": [
    {
      "cell_type": "markdown",
      "metadata": {
        "id": "view-in-github",
        "colab_type": "text"
      },
      "source": [
        "<a href=\"https://colab.research.google.com/github/SnSabu/congressional-analysis/blob/main/Flight_Data_Scrape.ipynb\" target=\"_parent\"><img src=\"https://colab.research.google.com/assets/colab-badge.svg\" alt=\"Open In Colab\"/></a>"
      ]
    },
    {
      "cell_type": "markdown",
      "source": [
        "Prepping input data"
      ],
      "metadata": {
        "id": "UIr3b8L8BpNB"
      }
    },
    {
      "cell_type": "code",
      "source": [
        "import pandas as pd"
      ],
      "metadata": {
        "id": "xcGcpQHUCCFH"
      },
      "execution_count": 2,
      "outputs": []
    },
    {
      "cell_type": "code",
      "source": [
        "Office_Airports = pd.read_csv(\"Closest_airport_to_hubs.csv\")\n",
        "Emp_Airport = pd.read_csv(\"closest_airports_employees.csv\")"
      ],
      "metadata": {
        "colab": {
          "base_uri": "https://localhost:8080/",
          "height": 206
        },
        "id": "EW-Q7GtwBryP",
        "outputId": "7b8e0a0e-8e4f-4cb7-f571-a3465e768fc2"
      },
      "execution_count": 3,
      "outputs": [
        {
          "output_type": "execute_result",
          "data": {
            "text/plain": [
              "        hub Airport 1  latitude 1  longitude 1  Distance 1 Airport 2  \\\n",
              "0   Atlanta       ATL   33.636700   -84.428101   97.771765       BNA   \n",
              "1  Bellevue       SEA   47.449162  -122.311134   20.702747       PDX   \n",
              "2   Chicago       ORD   41.978600   -87.904800   52.914156       MKE   \n",
              "3    Dallas       DFW   32.896801   -97.038002   24.744045       AUS   \n",
              "4    Denver       DEN   39.861698  -104.672996   30.233466       SLC   \n",
              "\n",
              "   latitude 2  longitude 2  Distance 2  \n",
              "0   36.124500   -86.678200  281.048239  \n",
              "1   45.588699  -122.598000  227.724885  \n",
              "2   42.947201   -87.896599   56.923670  \n",
              "3   30.197535   -97.662015  298.638768  \n",
              "4   40.785749  -111.979746  604.938992  "
            ],
            "text/html": [
              "\n",
              "  <div id=\"df-44c7cbc3-3ba8-4f85-804f-5177db7c1887\">\n",
              "    <div class=\"colab-df-container\">\n",
              "      <div>\n",
              "<style scoped>\n",
              "    .dataframe tbody tr th:only-of-type {\n",
              "        vertical-align: middle;\n",
              "    }\n",
              "\n",
              "    .dataframe tbody tr th {\n",
              "        vertical-align: top;\n",
              "    }\n",
              "\n",
              "    .dataframe thead th {\n",
              "        text-align: right;\n",
              "    }\n",
              "</style>\n",
              "<table border=\"1\" class=\"dataframe\">\n",
              "  <thead>\n",
              "    <tr style=\"text-align: right;\">\n",
              "      <th></th>\n",
              "      <th>hub</th>\n",
              "      <th>Airport 1</th>\n",
              "      <th>latitude 1</th>\n",
              "      <th>longitude 1</th>\n",
              "      <th>Distance 1</th>\n",
              "      <th>Airport 2</th>\n",
              "      <th>latitude 2</th>\n",
              "      <th>longitude 2</th>\n",
              "      <th>Distance 2</th>\n",
              "    </tr>\n",
              "  </thead>\n",
              "  <tbody>\n",
              "    <tr>\n",
              "      <th>0</th>\n",
              "      <td>Atlanta</td>\n",
              "      <td>ATL</td>\n",
              "      <td>33.636700</td>\n",
              "      <td>-84.428101</td>\n",
              "      <td>97.771765</td>\n",
              "      <td>BNA</td>\n",
              "      <td>36.124500</td>\n",
              "      <td>-86.678200</td>\n",
              "      <td>281.048239</td>\n",
              "    </tr>\n",
              "    <tr>\n",
              "      <th>1</th>\n",
              "      <td>Bellevue</td>\n",
              "      <td>SEA</td>\n",
              "      <td>47.449162</td>\n",
              "      <td>-122.311134</td>\n",
              "      <td>20.702747</td>\n",
              "      <td>PDX</td>\n",
              "      <td>45.588699</td>\n",
              "      <td>-122.598000</td>\n",
              "      <td>227.724885</td>\n",
              "    </tr>\n",
              "    <tr>\n",
              "      <th>2</th>\n",
              "      <td>Chicago</td>\n",
              "      <td>ORD</td>\n",
              "      <td>41.978600</td>\n",
              "      <td>-87.904800</td>\n",
              "      <td>52.914156</td>\n",
              "      <td>MKE</td>\n",
              "      <td>42.947201</td>\n",
              "      <td>-87.896599</td>\n",
              "      <td>56.923670</td>\n",
              "    </tr>\n",
              "    <tr>\n",
              "      <th>3</th>\n",
              "      <td>Dallas</td>\n",
              "      <td>DFW</td>\n",
              "      <td>32.896801</td>\n",
              "      <td>-97.038002</td>\n",
              "      <td>24.744045</td>\n",
              "      <td>AUS</td>\n",
              "      <td>30.197535</td>\n",
              "      <td>-97.662015</td>\n",
              "      <td>298.638768</td>\n",
              "    </tr>\n",
              "    <tr>\n",
              "      <th>4</th>\n",
              "      <td>Denver</td>\n",
              "      <td>DEN</td>\n",
              "      <td>39.861698</td>\n",
              "      <td>-104.672996</td>\n",
              "      <td>30.233466</td>\n",
              "      <td>SLC</td>\n",
              "      <td>40.785749</td>\n",
              "      <td>-111.979746</td>\n",
              "      <td>604.938992</td>\n",
              "    </tr>\n",
              "  </tbody>\n",
              "</table>\n",
              "</div>\n",
              "      <button class=\"colab-df-convert\" onclick=\"convertToInteractive('df-44c7cbc3-3ba8-4f85-804f-5177db7c1887')\"\n",
              "              title=\"Convert this dataframe to an interactive table.\"\n",
              "              style=\"display:none;\">\n",
              "        \n",
              "  <svg xmlns=\"http://www.w3.org/2000/svg\" height=\"24px\"viewBox=\"0 0 24 24\"\n",
              "       width=\"24px\">\n",
              "    <path d=\"M0 0h24v24H0V0z\" fill=\"none\"/>\n",
              "    <path d=\"M18.56 5.44l.94 2.06.94-2.06 2.06-.94-2.06-.94-.94-2.06-.94 2.06-2.06.94zm-11 1L8.5 8.5l.94-2.06 2.06-.94-2.06-.94L8.5 2.5l-.94 2.06-2.06.94zm10 10l.94 2.06.94-2.06 2.06-.94-2.06-.94-.94-2.06-.94 2.06-2.06.94z\"/><path d=\"M17.41 7.96l-1.37-1.37c-.4-.4-.92-.59-1.43-.59-.52 0-1.04.2-1.43.59L10.3 9.45l-7.72 7.72c-.78.78-.78 2.05 0 2.83L4 21.41c.39.39.9.59 1.41.59.51 0 1.02-.2 1.41-.59l7.78-7.78 2.81-2.81c.8-.78.8-2.07 0-2.86zM5.41 20L4 18.59l7.72-7.72 1.47 1.35L5.41 20z\"/>\n",
              "  </svg>\n",
              "      </button>\n",
              "      \n",
              "  <style>\n",
              "    .colab-df-container {\n",
              "      display:flex;\n",
              "      flex-wrap:wrap;\n",
              "      gap: 12px;\n",
              "    }\n",
              "\n",
              "    .colab-df-convert {\n",
              "      background-color: #E8F0FE;\n",
              "      border: none;\n",
              "      border-radius: 50%;\n",
              "      cursor: pointer;\n",
              "      display: none;\n",
              "      fill: #1967D2;\n",
              "      height: 32px;\n",
              "      padding: 0 0 0 0;\n",
              "      width: 32px;\n",
              "    }\n",
              "\n",
              "    .colab-df-convert:hover {\n",
              "      background-color: #E2EBFA;\n",
              "      box-shadow: 0px 1px 2px rgba(60, 64, 67, 0.3), 0px 1px 3px 1px rgba(60, 64, 67, 0.15);\n",
              "      fill: #174EA6;\n",
              "    }\n",
              "\n",
              "    [theme=dark] .colab-df-convert {\n",
              "      background-color: #3B4455;\n",
              "      fill: #D2E3FC;\n",
              "    }\n",
              "\n",
              "    [theme=dark] .colab-df-convert:hover {\n",
              "      background-color: #434B5C;\n",
              "      box-shadow: 0px 1px 3px 1px rgba(0, 0, 0, 0.15);\n",
              "      filter: drop-shadow(0px 1px 2px rgba(0, 0, 0, 0.3));\n",
              "      fill: #FFFFFF;\n",
              "    }\n",
              "  </style>\n",
              "\n",
              "      <script>\n",
              "        const buttonEl =\n",
              "          document.querySelector('#df-44c7cbc3-3ba8-4f85-804f-5177db7c1887 button.colab-df-convert');\n",
              "        buttonEl.style.display =\n",
              "          google.colab.kernel.accessAllowed ? 'block' : 'none';\n",
              "\n",
              "        async function convertToInteractive(key) {\n",
              "          const element = document.querySelector('#df-44c7cbc3-3ba8-4f85-804f-5177db7c1887');\n",
              "          const dataTable =\n",
              "            await google.colab.kernel.invokeFunction('convertToInteractive',\n",
              "                                                     [key], {});\n",
              "          if (!dataTable) return;\n",
              "\n",
              "          const docLinkHtml = 'Like what you see? Visit the ' +\n",
              "            '<a target=\"_blank\" href=https://colab.research.google.com/notebooks/data_table.ipynb>data table notebook</a>'\n",
              "            + ' to learn more about interactive tables.';\n",
              "          element.innerHTML = '';\n",
              "          dataTable['output_type'] = 'display_data';\n",
              "          await google.colab.output.renderOutput(dataTable, element);\n",
              "          const docLink = document.createElement('div');\n",
              "          docLink.innerHTML = docLinkHtml;\n",
              "          element.appendChild(docLink);\n",
              "        }\n",
              "      </script>\n",
              "    </div>\n",
              "  </div>\n",
              "  "
            ]
          },
          "metadata": {},
          "execution_count": 3
        }
      ]
    },
    {
      "cell_type": "code",
      "source": [
        "hub_airport = pd.concat([Office_Airports['Airport 1'], Office_Airports['Airport 2']])\n",
        "hub_airport = pd.DataFrame(hub_airport, columns=['Destination Airport'])\n",
        "\n",
        "emp_airport = pd.concat([pd.Series(Emp_Airport['Airport 1'].unique()), pd.Series(Emp_Airport['Airport 2'].unique())])\n",
        "emp_airport = pd.DataFrame(emp_airport, columns=['Origin Airport'])\n",
        "\n",
        "\n",
        "hub_airport['key'] = 1\n",
        "emp_airport['key'] = 1\n",
        "airport_combinations = pd.merge(emp_airport, hub_airport, on ='key').drop(\"key\", 1)\n",
        "airport_combinations.describe"
      ],
      "metadata": {
        "colab": {
          "base_uri": "https://localhost:8080/"
        },
        "id": "5HnadQTFXCP-",
        "outputId": "e8a1c680-1e2d-4af0-ba13-eb4c6c66b89e"
      },
      "execution_count": 40,
      "outputs": [
        {
          "output_type": "stream",
          "name": "stderr",
          "text": [
            "<ipython-input-40-c14fcf9bbd4e>:10: FutureWarning: In a future version of pandas all arguments of DataFrame.drop except for the argument 'labels' will be keyword-only\n",
            "  airport_combinations = pd.merge(emp_airport, hub_airport, on ='key').drop(\"key\", 1)\n"
          ]
        },
        {
          "output_type": "execute_result",
          "data": {
            "text/plain": [
              "<bound method NDFrame.describe of      Origin Airport Destination Airport\n",
              "0               BOS                 ATL\n",
              "1               BOS                 SEA\n",
              "2               BOS                 ORD\n",
              "3               BOS                 DFW\n",
              "4               BOS                 DEN\n",
              "...             ...                 ...\n",
              "2575            FAI                 CVG\n",
              "2576            FAI                 EWR\n",
              "2577            FAI                 SFO\n",
              "2578            FAI                 PDX\n",
              "2579            FAI                 SFO\n",
              "\n",
              "[2580 rows x 2 columns]>"
            ]
          },
          "metadata": {},
          "execution_count": 40
        }
      ]
    },
    {
      "cell_type": "markdown",
      "source": [
        "Using Duffel"
      ],
      "metadata": {
        "id": "pE-qbaz2R81y"
      }
    },
    {
      "cell_type": "code",
      "source": [
        "!pip install duffel-api"
      ],
      "metadata": {
        "colab": {
          "base_uri": "https://localhost:8080/"
        },
        "id": "Xo3EXtFTGKMK",
        "outputId": "a605a172-41df-4e16-c79b-1b8ec26aa07f"
      },
      "execution_count": 41,
      "outputs": [
        {
          "output_type": "stream",
          "name": "stdout",
          "text": [
            "Looking in indexes: https://pypi.org/simple, https://us-python.pkg.dev/colab-wheels/public/simple/\n",
            "Collecting duffel-api\n",
            "  Downloading duffel_api-0.5.0-py3-none-any.whl (68 kB)\n",
            "\u001b[2K     \u001b[90m━━━━━━━━━━━━━━━━━━━━━━━━━━━━━━━━━━━━━━━━\u001b[0m \u001b[32m68.4/68.4 KB\u001b[0m \u001b[31m3.8 MB/s\u001b[0m eta \u001b[36m0:00:00\u001b[0m\n",
            "\u001b[?25hRequirement already satisfied: requests>=2.25 in /usr/local/lib/python3.8/dist-packages (from duffel-api) (2.25.1)\n",
            "Requirement already satisfied: certifi>=2017.4.17 in /usr/local/lib/python3.8/dist-packages (from requests>=2.25->duffel-api) (2022.12.7)\n",
            "Requirement already satisfied: idna<3,>=2.5 in /usr/local/lib/python3.8/dist-packages (from requests>=2.25->duffel-api) (2.10)\n",
            "Requirement already satisfied: urllib3<1.27,>=1.21.1 in /usr/local/lib/python3.8/dist-packages (from requests>=2.25->duffel-api) (1.24.3)\n",
            "Requirement already satisfied: chardet<5,>=3.0.2 in /usr/local/lib/python3.8/dist-packages (from requests>=2.25->duffel-api) (4.0.0)\n",
            "Installing collected packages: duffel-api\n",
            "Successfully installed duffel-api-0.5.0\n"
          ]
        }
      ]
    },
    {
      "cell_type": "code",
      "source": [
        "from duffel_api import Duffel\n",
        "\n",
        "#duffel_test_mSO5C-rVg_mIuSj_co7IND-CIcuZ_ak0I8M1X-jas3A\n",
        "access_token = 'duffel_test_mSO5C-rVg_mIuSj_co7IND-CIcuZ_ak0I8M1X-jas3A'\n",
        "client = Duffel(access_token = access_token)"
      ],
      "metadata": {
        "id": "4Z30m3efGM2o"
      },
      "execution_count": 42,
      "outputs": []
    },
    {
      "cell_type": "code",
      "source": [
        "from duffel_api import Duffel\n",
        "\n",
        "client = Duffel(access_token = 'duffel_test_mSO5C-rVg_mIuSj_co7IND-CIcuZ_ak0I8M1X-jas3A')\n",
        "\n",
        "offer_requests = client.offer_requests.list()\n",
        "for offer_request in offer_requests:\n",
        "    print(offer_request.id)"
      ],
      "metadata": {
        "colab": {
          "base_uri": "https://localhost:8080/"
        },
        "id": "9JY52bkxHR9G",
        "outputId": "f8c91e15-7d08-4813-d7cf-139b2210b6bb"
      },
      "execution_count": 44,
      "outputs": [
        {
          "output_type": "stream",
          "name": "stdout",
          "text": [
            "orq_0000AT23PKyBtmqYbqqjBY\n",
            "orq_0000AT1GdRODdT0LbBSTbg\n",
            "orq_0000AT1FlCoHvClBxuS3xg\n",
            "orq_0000AT1Fj50sLbc1wvZqym\n",
            "orq_0000AT1ATlsghLzoUvd1Ye\n",
            "orq_0000AT19zAdAd5Q4HSmLVA\n",
            "orq_0000AT14A8ixxzU8mK5dQ0\n",
            "orq_0000AT0yiVf1NwLJ7NaK8G\n",
            "orq_0000AT0yiLoZzY2wa7yods\n"
          ]
        }
      ]
    },
    {
      "cell_type": "code",
      "source": [
        "slices = [\n",
        "  {\n",
        "    \"origin\": \"NYC\",\n",
        "    \"destination\": \"ATL\",\n",
        "    \"departure_date\": \"2023-03-21\"\n",
        "  },\n",
        "  {\n",
        "    \"origin\": \"ATL\",\n",
        "    \"destination\": \"NYC\",\n",
        "    \"departure_date\": \"2023-03-21\"\n",
        "  }\n",
        "]\n",
        "passengers = [{ \"type\": \"adult\" }, { \"type\": \"adult\" }, { \"age\": 1 }]\n",
        "client.offer_requests.create()\\\n",
        "  .slices(slices)\\\n",
        "  .passengers(passengers)\\\n",
        "  .cabin_class(\"business\")\\\n",
        "  .execute()"
      ],
      "metadata": {
        "colab": {
          "base_uri": "https://localhost:8080/"
        },
        "id": "lFU5reUzJlef",
        "outputId": "855b7e47-f168-4612-cd87-c6f6a9a372d1"
      },
      "execution_count": 43,
      "outputs": [
        {
          "output_type": "execute_result",
          "data": {
            "text/plain": [
              "OfferRequest(id='orq_0000AT23PKyBtmqYbqqjBY', live_mode=False, cabin_class='business', created_at=datetime.datetime(2023, 2, 25, 8, 21, 19, 634067), offers=[], slices=[OfferRequestSlice(destination_type='city', destination=City(id='cit_atl_us', name='Atlanta', iata_code='ATL', iata_country_code='US'), origin_type='city', origin=City(id='cit_nyc_us', name='New York', iata_code='NYC', iata_country_code='US'), departure_date=datetime.date(2023, 3, 21)), OfferRequestSlice(destination_type='city', destination=City(id='cit_nyc_us', name='New York', iata_code='NYC', iata_country_code='US'), origin_type='city', origin=City(id='cit_atl_us', name='Atlanta', iata_code='ATL', iata_country_code='US'), departure_date=datetime.date(2023, 3, 21))], passengers=[OfferRequestPassenger(id='pas_0000AT23PKyBtmqYbqqjBb', age=None, type='adult', given_name=None, family_name=None, loyalty_programme_accounts=[]), OfferRequestPassenger(id='pas_0000AT23PKyBtmqYbqqjBc', age=None, type='adult', given_name=None, family_name=None, loyalty_programme_accounts=[]), OfferRequestPassenger(id='pas_0000AT23PKyBtmqYbqqjBd', age=1, type=None, given_name=None, family_name=None, loyalty_programme_accounts=[])])"
            ]
          },
          "metadata": {},
          "execution_count": 43
        }
      ]
    },
    {
      "cell_type": "code",
      "source": [
        "destination = 'ATL'\n",
        "origin = 'NYC'\n",
        "departure_date = '2023-03-21'\n",
        "print(\"\\nSearching flights...\")\n",
        "slices = [\n",
        "    {\n",
        "        \"origin\": origin,\n",
        "        \"destination\": destination,\n",
        "        \"departure_date\": departure_date,\n",
        "    },\n",
        "]\n",
        "offer_request = (\n",
        "    client.offer_requests.create()\n",
        "    .passengers([{\"type\": \"adult\"}])\n",
        "    .slices(slices)\n",
        "    .return_offers()\n",
        "    .execute()\n",
        ")\n",
        "offers = offer_request.offers\n",
        "for idx, offer in enumerate(offers):\n",
        "    print(\n",
        "        f\"{idx + 1}. {offer.owner.name} flight departing at \"\n",
        "        + f\"{offer.slices[0].segments[0].departing_at} duration of \"\n",
        "         + f\"{offer.slices[0].segments[0].duration} \"\n",
        "        + f\"{offer.total_amount} {offer.total_currency}\"\n",
        "        )"
      ],
      "metadata": {
        "id": "BZsdSj7kW7-v",
        "colab": {
          "base_uri": "https://localhost:8080/"
        },
        "outputId": "4bfab27d-ce82-43fa-bb96-2ab531396e82"
      },
      "execution_count": 46,
      "outputs": [
        {
          "output_type": "stream",
          "name": "stdout",
          "text": [
            "\n",
            "Searching flights...\n",
            "1. United Airlines flight departing at 2023-03-21 20:45:00 duration of PT2H31M 53.39 USD\n",
            "2. United Airlines flight departing at 2023-03-21 16:59:00 duration of PT2H32M 53.39 USD\n",
            "3. United Airlines flight departing at 2023-03-21 15:05:00 duration of PT2H31M 53.39 USD\n",
            "4. United Airlines flight departing at 2023-03-21 13:29:00 duration of PT2H30M 53.39 USD\n",
            "5. United Airlines flight departing at 2023-03-21 11:58:00 duration of PT2H30M 53.39 USD\n",
            "6. United Airlines flight departing at 2023-03-21 10:40:00 duration of PT2H29M 53.39 USD\n",
            "7. United Airlines flight departing at 2023-03-21 06:30:00 duration of PT2H31M 53.39 USD\n",
            "8. American Airlines flight departing at 2023-03-21 14:09:00 duration of PT2H52M 53.90 USD\n",
            "9. American Airlines flight departing at 2023-03-21 20:20:00 duration of PT2H51M 53.90 USD\n",
            "10. American Airlines flight departing at 2023-03-21 08:30:00 duration of PT2H39M 53.90 USD\n",
            "11. American Airlines flight departing at 2023-03-21 17:29:00 duration of PT2H39M 53.90 USD\n",
            "12. Duffel Airways flight departing at 2023-03-21 15:29:00 duration of PT2H23M 71.19 USD\n",
            "13. Delta Air Lines flight departing at 2023-03-21 08:00:00 duration of PT2H33M 73.90 USD\n",
            "14. Delta Air Lines flight departing at 2023-03-21 13:25:00 duration of PT2H38M 73.90 USD\n",
            "15. Delta Air Lines flight departing at 2023-03-21 20:20:00 duration of PT2H40M 73.90 USD\n",
            "16. Delta Air Lines flight departing at 2023-03-21 09:25:00 duration of PT2H43M 73.90 USD\n",
            "17. Delta Air Lines flight departing at 2023-03-21 10:25:00 duration of PT2H44M 73.90 USD\n",
            "18. Delta Air Lines flight departing at 2023-03-21 11:25:00 duration of PT2H48M 73.90 USD\n",
            "19. United Airlines flight departing at 2023-03-21 20:45:00 duration of PT2H31M 82.90 USD\n",
            "20. United Airlines flight departing at 2023-03-21 16:59:00 duration of PT2H32M 82.90 USD\n",
            "21. United Airlines flight departing at 2023-03-21 15:05:00 duration of PT2H31M 82.90 USD\n",
            "22. United Airlines flight departing at 2023-03-21 13:29:00 duration of PT2H30M 82.90 USD\n",
            "23. United Airlines flight departing at 2023-03-21 11:58:00 duration of PT2H30M 82.90 USD\n",
            "24. United Airlines flight departing at 2023-03-21 10:40:00 duration of PT2H29M 82.90 USD\n",
            "25. United Airlines flight departing at 2023-03-21 06:30:00 duration of PT2H31M 82.90 USD\n",
            "26. United Airlines flight departing at 2023-03-21 15:29:00 duration of PT1H26M 83.02 USD\n",
            "27. United Airlines flight departing at 2023-03-21 10:24:00 duration of PT1H26M 83.02 USD\n",
            "28. United Airlines flight departing at 2023-03-21 10:15:00 duration of PT1H24M 83.02 USD\n",
            "29. United Airlines flight departing at 2023-03-21 06:12:00 duration of PT1H19M 83.02 USD\n",
            "30. United Airlines flight departing at 2023-03-21 06:00:00 duration of PT1H26M 83.02 USD\n",
            "31. American Airlines flight departing at 2023-03-21 14:09:00 duration of PT2H52M 83.90 USD\n",
            "32. American Airlines flight departing at 2023-03-21 20:20:00 duration of PT2H51M 83.90 USD\n",
            "33. American Airlines flight departing at 2023-03-21 17:29:00 duration of PT2H39M 83.90 USD\n",
            "34. American Airlines flight departing at 2023-03-21 08:30:00 duration of PT2H39M 83.90 USD\n",
            "35. American Airlines flight departing at 2023-03-21 09:00:00 duration of PT2H43M 83.90 USD\n",
            "36. American Airlines flight departing at 2023-03-21 15:55:00 duration of PT2H41M 83.90 USD\n",
            "37. American Airlines flight departing at 2023-03-21 17:25:00 duration of PT2H38M 83.90 USD\n",
            "38. American Airlines flight departing at 2023-03-21 13:40:00 duration of PT2H34M 83.90 USD\n",
            "39. American Airlines flight departing at 2023-03-21 21:40:00 duration of PT2H31M 83.90 USD\n",
            "40. United Airlines flight departing at 2023-03-21 08:36:00 duration of PT2H38M 93.17 USD\n",
            "41. Delta Air Lines flight departing at 2023-03-21 14:25:00 duration of PT2H36M 98.90 USD\n",
            "42. Delta Air Lines flight departing at 2023-03-21 17:00:00 duration of PT2H36M 98.90 USD\n",
            "43. Delta Air Lines flight departing at 2023-03-21 15:45:00 duration of PT2H39M 98.90 USD\n",
            "44. Delta Air Lines flight departing at 2023-03-21 18:30:00 duration of PT2H41M 98.90 USD\n",
            "45. Delta Air Lines flight departing at 2023-03-21 12:25:00 duration of PT2H43M 98.90 USD\n",
            "46. Delta Air Lines flight departing at 2023-03-21 12:00:00 duration of PT2H35M 98.90 USD\n",
            "47. Delta Air Lines flight departing at 2023-03-21 08:35:00 duration of PT2H40M 98.90 USD\n",
            "48. Delta Air Lines flight departing at 2023-03-21 15:40:00 duration of PT2H46M 98.90 USD\n",
            "49. Delta Air Lines flight departing at 2023-03-21 21:29:00 duration of PT2H49M 98.90 USD\n",
            "50. Delta Air Lines flight departing at 2023-03-21 19:00:00 duration of PT2H50M 98.90 USD\n",
            "51. Delta Air Lines flight departing at 2023-03-21 14:00:00 duration of PT2H18M 98.90 USD\n",
            "52. Delta Air Lines flight departing at 2023-03-21 17:00:00 duration of PT2H23M 98.90 USD\n",
            "53. Delta Air Lines flight departing at 2023-03-21 06:00:00 duration of PT2H24M 98.90 USD\n",
            "54. Delta Air Lines flight departing at 2023-03-21 08:00:00 duration of PT2H29M 98.90 USD\n",
            "55. Delta Air Lines flight departing at 2023-03-21 10:24:00 duration of PT2H30M 98.90 USD\n",
            "56. United Airlines flight departing at 2023-03-21 14:45:00 duration of PT1H26M 102.37 USD\n",
            "57. American Airlines flight departing at 2023-03-21 08:00:00 duration of PT1H18M 103.20 USD\n",
            "58. American Airlines flight departing at 2023-03-21 06:00:00 duration of PT1H21M 103.20 USD\n",
            "59. American Airlines flight departing at 2023-03-21 12:00:00 duration of PT1H16M 103.20 USD\n",
            "60. American Airlines flight departing at 2023-03-21 16:00:00 duration of PT1H20M 103.20 USD\n",
            "61. Delta Air Lines flight departing at 2023-03-21 08:00:00 duration of PT2H33M 103.90 USD\n",
            "62. Delta Air Lines flight departing at 2023-03-21 13:25:00 duration of PT2H38M 103.90 USD\n",
            "63. Delta Air Lines flight departing at 2023-03-21 20:20:00 duration of PT2H40M 103.90 USD\n",
            "64. Delta Air Lines flight departing at 2023-03-21 09:25:00 duration of PT2H43M 103.90 USD\n",
            "65. Delta Air Lines flight departing at 2023-03-21 10:25:00 duration of PT2H44M 103.90 USD\n",
            "66. Delta Air Lines flight departing at 2023-03-21 11:25:00 duration of PT2H48M 103.90 USD\n",
            "67. Delta Air Lines flight departing at 2023-03-21 07:00:00 duration of PT2H34M 108.90 USD\n",
            "68. United Airlines flight departing at 2023-03-21 14:59:00 duration of PT1H18M 110.01 USD\n",
            "69. United Airlines flight departing at 2023-03-21 15:29:00 duration of PT1H26M 112.64 USD\n",
            "70. United Airlines flight departing at 2023-03-21 10:24:00 duration of PT1H26M 112.64 USD\n",
            "71. United Airlines flight departing at 2023-03-21 10:15:00 duration of PT1H24M 112.64 USD\n",
            "72. United Airlines flight departing at 2023-03-21 06:12:00 duration of PT1H19M 112.64 USD\n",
            "73. United Airlines flight departing at 2023-03-21 06:00:00 duration of PT1H26M 112.64 USD\n",
            "74. United Airlines flight departing at 2023-03-21 20:45:00 duration of PT2H31M 113.60 USD\n",
            "75. United Airlines flight departing at 2023-03-21 16:59:00 duration of PT2H32M 113.60 USD\n",
            "76. United Airlines flight departing at 2023-03-21 15:05:00 duration of PT2H31M 113.60 USD\n",
            "77. United Airlines flight departing at 2023-03-21 13:29:00 duration of PT2H30M 113.60 USD\n",
            "78. United Airlines flight departing at 2023-03-21 11:58:00 duration of PT2H30M 113.60 USD\n",
            "79. United Airlines flight departing at 2023-03-21 10:40:00 duration of PT2H29M 113.60 USD\n",
            "80. United Airlines flight departing at 2023-03-21 06:30:00 duration of PT2H31M 113.60 USD\n",
            "81. American Airlines flight departing at 2023-03-21 09:00:00 duration of PT2H43M 115.90 USD\n",
            "82. American Airlines flight departing at 2023-03-21 15:55:00 duration of PT2H41M 115.90 USD\n",
            "83. American Airlines flight departing at 2023-03-21 17:25:00 duration of PT2H38M 115.90 USD\n",
            "84. American Airlines flight departing at 2023-03-21 13:40:00 duration of PT2H34M 115.90 USD\n",
            "85. American Airlines flight departing at 2023-03-21 21:40:00 duration of PT2H31M 115.90 USD\n",
            "86. American Airlines flight departing at 2023-03-21 06:00:00 duration of PT2H6M 116.70 USD\n",
            "87. American Airlines flight departing at 2023-03-21 15:48:00 duration of PT1H38M 118.20 USD\n",
            "88. Delta Air Lines flight departing at 2023-03-21 18:59:00 duration of PT2H32M 118.90 USD\n",
            "89. United Airlines flight departing at 2023-03-21 08:36:00 duration of PT2H38M 123.87 USD\n",
            "90. Delta Air Lines flight departing at 2023-03-21 14:25:00 duration of PT2H36M 128.90 USD\n",
            "91. Delta Air Lines flight departing at 2023-03-21 17:00:00 duration of PT2H36M 128.90 USD\n",
            "92. Delta Air Lines flight departing at 2023-03-21 15:45:00 duration of PT2H39M 128.90 USD\n",
            "93. Delta Air Lines flight departing at 2023-03-21 18:30:00 duration of PT2H41M 128.90 USD\n",
            "94. Delta Air Lines flight departing at 2023-03-21 12:25:00 duration of PT2H43M 128.90 USD\n",
            "95. Delta Air Lines flight departing at 2023-03-21 14:00:00 duration of PT2H18M 128.90 USD\n",
            "96. Delta Air Lines flight departing at 2023-03-21 17:00:00 duration of PT2H23M 128.90 USD\n",
            "97. Delta Air Lines flight departing at 2023-03-21 06:00:00 duration of PT2H24M 128.90 USD\n",
            "98. Delta Air Lines flight departing at 2023-03-21 08:00:00 duration of PT2H29M 128.90 USD\n",
            "99. Delta Air Lines flight departing at 2023-03-21 10:24:00 duration of PT2H30M 128.90 USD\n",
            "100. Delta Air Lines flight departing at 2023-03-21 06:00:00 duration of PT2H40M 128.90 USD\n",
            "101. Delta Air Lines flight departing at 2023-03-21 17:30:00 duration of PT2H40M 128.90 USD\n",
            "102. Delta Air Lines flight departing at 2023-03-21 12:00:00 duration of PT2H35M 128.90 USD\n",
            "103. Delta Air Lines flight departing at 2023-03-21 08:35:00 duration of PT2H40M 128.90 USD\n",
            "104. Delta Air Lines flight departing at 2023-03-21 15:40:00 duration of PT2H46M 128.90 USD\n",
            "105. Delta Air Lines flight departing at 2023-03-21 21:29:00 duration of PT2H49M 128.90 USD\n",
            "106. Delta Air Lines flight departing at 2023-03-21 19:00:00 duration of PT2H50M 128.90 USD\n",
            "107. American Airlines flight departing at 2023-03-21 10:25:00 duration of PT2H3M 131.71 USD\n",
            "108. American Airlines flight departing at 2023-03-21 09:25:00 duration of PT2H2M 131.71 USD\n",
            "109. American Airlines flight departing at 2023-03-21 15:29:00 duration of PT2H1M 131.71 USD\n",
            "110. American Airlines flight departing at 2023-03-21 13:41:00 duration of PT1H58M 131.71 USD\n",
            "111. United Airlines flight departing at 2023-03-21 14:45:00 duration of PT1H26M 133.07 USD\n",
            "112. American Airlines flight departing at 2023-03-21 08:00:00 duration of PT1H18M 133.21 USD\n",
            "113. American Airlines flight departing at 2023-03-21 06:00:00 duration of PT1H21M 133.21 USD\n",
            "114. American Airlines flight departing at 2023-03-21 12:00:00 duration of PT1H16M 133.21 USD\n",
            "115. American Airlines flight departing at 2023-03-21 16:00:00 duration of PT1H20M 133.21 USD\n",
            "116. American Airlines flight departing at 2023-03-21 14:09:00 duration of PT2H52M 133.90 USD\n",
            "117. American Airlines flight departing at 2023-03-21 20:20:00 duration of PT2H51M 133.90 USD\n",
            "118. American Airlines flight departing at 2023-03-21 08:30:00 duration of PT2H39M 133.90 USD\n",
            "119. American Airlines flight departing at 2023-03-21 17:29:00 duration of PT2H39M 133.90 USD\n",
            "120. American Airlines flight departing at 2023-03-21 14:58:00 duration of PT2H7M 136.70 USD\n",
            "121. American Airlines flight departing at 2023-03-21 06:00:00 duration of PT2H1M 136.70 USD\n",
            "122. American Airlines flight departing at 2023-03-21 11:30:00 duration of PT2H5M 136.70 USD\n",
            "123. American Airlines flight departing at 2023-03-21 10:03:00 duration of PT2H11M 136.70 USD\n",
            "124. American Airlines flight departing at 2023-03-21 13:00:00 duration of PT2H2M 136.70 USD\n",
            "125. Delta Air Lines flight departing at 2023-03-21 07:00:00 duration of PT2H34M 138.90 USD\n",
            "126. United Airlines flight departing at 2023-03-21 14:59:00 duration of PT1H18M 139.64 USD\n",
            "127. United Airlines flight departing at 2023-03-21 15:29:00 duration of PT1H26M 142.15 USD\n",
            "128. United Airlines flight departing at 2023-03-21 10:24:00 duration of PT1H26M 142.15 USD\n",
            "129. United Airlines flight departing at 2023-03-21 10:15:00 duration of PT1H24M 142.15 USD\n",
            "130. United Airlines flight departing at 2023-03-21 06:12:00 duration of PT1H19M 142.15 USD\n",
            "131. United Airlines flight departing at 2023-03-21 06:00:00 duration of PT1H26M 142.15 USD\n",
            "132. American Airlines flight departing at 2023-03-21 10:00:00 duration of PT2H24M 144.70 USD\n",
            "133. American Airlines flight departing at 2023-03-21 06:00:00 duration of PT2H6M 146.70 USD\n",
            "134. American Airlines flight departing at 2023-03-21 15:48:00 duration of PT1H38M 148.20 USD\n",
            "135. Delta Air Lines flight departing at 2023-03-21 18:59:00 duration of PT2H32M 148.90 USD\n",
            "136. Delta Air Lines flight departing at 2023-03-21 07:00:00 duration of PT2H28M 148.90 USD\n",
            "137. American Airlines flight departing at 2023-03-21 14:09:00 duration of PT2H52M 148.90 USD\n",
            "138. American Airlines flight departing at 2023-03-21 20:20:00 duration of PT2H51M 148.90 USD\n",
            "139. American Airlines flight departing at 2023-03-21 17:29:00 duration of PT2H39M 148.90 USD\n",
            "140. American Airlines flight departing at 2023-03-21 08:30:00 duration of PT2H39M 148.90 USD\n",
            "141. United Airlines flight departing at 2023-03-21 08:36:00 duration of PT2H38M 153.49 USD\n",
            "142. American Airlines flight departing at 2023-03-21 06:00:00 duration of PT1H57M 156.70 USD\n",
            "143. Delta Air Lines flight departing at 2023-03-21 06:00:00 duration of PT2H32M 158.90 USD\n",
            "144. Delta Air Lines flight departing at 2023-03-21 06:00:00 duration of PT2H40M 158.90 USD\n",
            "145. Delta Air Lines flight departing at 2023-03-21 17:30:00 duration of PT2H40M 158.90 USD\n",
            "146. American Airlines flight departing at 2023-03-21 09:25:00 duration of PT2H2M 161.70 USD\n",
            "147. American Airlines flight departing at 2023-03-21 15:29:00 duration of PT2H1M 161.70 USD\n",
            "148. American Airlines flight departing at 2023-03-21 13:41:00 duration of PT1H58M 161.70 USD\n",
            "149. United Airlines flight departing at 2023-03-21 14:45:00 duration of PT1H26M 162.69 USD\n",
            "150. American Airlines flight departing at 2023-03-21 06:00:00 duration of PT2H1M 166.70 USD\n",
            "151. American Airlines flight departing at 2023-03-21 11:30:00 duration of PT2H5M 166.70 USD\n",
            "152. American Airlines flight departing at 2023-03-21 10:03:00 duration of PT2H11M 166.70 USD\n",
            "153. American Airlines flight departing at 2023-03-21 13:00:00 duration of PT2H2M 166.70 USD\n",
            "154. Delta Air Lines flight departing at 2023-03-21 08:00:00 duration of PT2H33M 168.90 USD\n",
            "155. Delta Air Lines flight departing at 2023-03-21 13:25:00 duration of PT2H38M 168.90 USD\n",
            "156. Delta Air Lines flight departing at 2023-03-21 20:20:00 duration of PT2H40M 168.90 USD\n",
            "157. Delta Air Lines flight departing at 2023-03-21 09:25:00 duration of PT2H43M 168.90 USD\n",
            "158. Delta Air Lines flight departing at 2023-03-21 10:25:00 duration of PT2H44M 168.90 USD\n",
            "159. Delta Air Lines flight departing at 2023-03-21 11:25:00 duration of PT2H48M 168.90 USD\n",
            "160. Delta Air Lines flight departing at 2023-03-21 14:25:00 duration of PT2H36M 168.90 USD\n",
            "161. Delta Air Lines flight departing at 2023-03-21 17:00:00 duration of PT2H36M 168.90 USD\n",
            "162. Delta Air Lines flight departing at 2023-03-21 15:45:00 duration of PT2H39M 168.90 USD\n",
            "163. Delta Air Lines flight departing at 2023-03-21 18:30:00 duration of PT2H41M 168.90 USD\n",
            "164. Delta Air Lines flight departing at 2023-03-21 12:25:00 duration of PT2H43M 168.90 USD\n",
            "165. Delta Air Lines flight departing at 2023-03-21 10:24:00 duration of PT2H30M 168.90 USD\n",
            "166. Delta Air Lines flight departing at 2023-03-21 07:00:00 duration of PT2H34M 168.90 USD\n",
            "167. United Airlines flight departing at 2023-03-21 14:59:00 duration of PT1H18M 170.34 USD\n",
            "168. American Airlines flight departing at 2023-03-21 10:00:00 duration of PT2H24M 174.71 USD\n",
            "169. Delta Air Lines flight departing at 2023-03-21 07:00:00 duration of PT2H28M 178.90 USD\n",
            "170. Delta Air Lines flight departing at 2023-03-21 18:59:00 duration of PT2H32M 178.90 USD\n",
            "171. Delta Air Lines flight departing at 2023-03-21 14:00:00 duration of PT2H18M 178.90 USD\n",
            "172. Delta Air Lines flight departing at 2023-03-21 17:00:00 duration of PT2H23M 178.90 USD\n",
            "173. Delta Air Lines flight departing at 2023-03-21 06:00:00 duration of PT2H24M 178.90 USD\n",
            "174. Delta Air Lines flight departing at 2023-03-21 08:00:00 duration of PT2H29M 178.90 USD\n",
            "175. American Airlines flight departing at 2023-03-21 08:00:00 duration of PT1H18M 183.20 USD\n",
            "176. American Airlines flight departing at 2023-03-21 06:00:00 duration of PT1H21M 183.20 USD\n",
            "177. American Airlines flight departing at 2023-03-21 12:00:00 duration of PT1H16M 183.20 USD\n",
            "178. American Airlines flight departing at 2023-03-21 16:00:00 duration of PT1H20M 183.20 USD\n",
            "179. American Airlines flight departing at 2023-03-21 06:00:00 duration of PT1H57M 186.70 USD\n",
            "180. Delta Air Lines flight departing at 2023-03-21 06:00:00 duration of PT2H32M 188.90 USD\n",
            "181. Delta Air Lines flight departing at 2023-03-21 12:00:00 duration of PT2H35M 188.90 USD\n",
            "182. Delta Air Lines flight departing at 2023-03-21 08:35:00 duration of PT2H40M 188.90 USD\n",
            "183. Delta Air Lines flight departing at 2023-03-21 15:40:00 duration of PT2H46M 188.90 USD\n",
            "184. Delta Air Lines flight departing at 2023-03-21 21:29:00 duration of PT2H49M 188.90 USD\n",
            "185. Delta Air Lines flight departing at 2023-03-21 19:00:00 duration of PT2H50M 188.90 USD\n",
            "186. Delta Air Lines flight departing at 2023-03-21 06:00:00 duration of PT2H40M 188.90 USD\n",
            "187. Delta Air Lines flight departing at 2023-03-21 17:30:00 duration of PT2H40M 188.90 USD\n",
            "188. American Airlines flight departing at 2023-03-21 06:00:00 duration of PT2H6M 196.70 USD\n",
            "189. American Airlines flight departing at 2023-03-21 15:48:00 duration of PT1H38M 198.20 USD\n",
            "190. American Airlines flight departing at 2023-03-21 08:00:00 duration of PT1H18M 198.20 USD\n",
            "191. American Airlines flight departing at 2023-03-21 06:00:00 duration of PT1H21M 198.20 USD\n",
            "192. American Airlines flight departing at 2023-03-21 12:00:00 duration of PT1H16M 198.20 USD\n",
            "193. American Airlines flight departing at 2023-03-21 16:00:00 duration of PT1H20M 198.20 USD\n",
            "194. American Airlines flight departing at 2023-03-21 14:09:00 duration of PT2H52M 203.90 USD\n",
            "195. American Airlines flight departing at 2023-03-21 20:20:00 duration of PT2H51M 203.90 USD\n",
            "196. American Airlines flight departing at 2023-03-21 17:29:00 duration of PT2H39M 203.90 USD\n",
            "197. American Airlines flight departing at 2023-03-21 08:30:00 duration of PT2H39M 203.90 USD\n",
            "198. American Airlines flight departing at 2023-03-21 10:25:00 duration of PT2H3M 207.70 USD\n",
            "199. American Airlines flight departing at 2023-03-21 15:29:00 duration of PT2H1M 207.70 USD\n",
            "200. American Airlines flight departing at 2023-03-21 09:25:00 duration of PT2H2M 207.70 USD\n",
            "201. American Airlines flight departing at 2023-03-21 13:41:00 duration of PT1H58M 207.70 USD\n",
            "202. Delta Air Lines flight departing at 2023-03-21 07:00:00 duration of PT2H28M 208.91 USD\n",
            "203. American Airlines flight departing at 2023-03-21 09:25:00 duration of PT2H2M 211.70 USD\n",
            "204. American Airlines flight departing at 2023-03-21 15:29:00 duration of PT2H1M 211.70 USD\n",
            "205. American Airlines flight departing at 2023-03-21 13:41:00 duration of PT1H58M 211.70 USD\n",
            "206. American Airlines flight departing at 2023-03-21 06:00:00 duration of PT2H6M 211.70 USD\n",
            "207. American Airlines flight departing at 2023-03-21 15:48:00 duration of PT1H38M 213.20 USD\n",
            "208. United Airlines flight departing at 2023-03-21 15:14:00 duration of PT2H41M 216.56 USD\n",
            "209. United Airlines flight departing at 2023-03-21 15:00:00 duration of PT2H42M 216.56 USD\n",
            "210. United Airlines flight departing at 2023-03-21 14:00:00 duration of PT2H50M 216.56 USD\n",
            "211. United Airlines flight departing at 2023-03-21 11:33:00 duration of PT2H36M 216.56 USD\n",
            "212. United Airlines flight departing at 2023-03-21 11:00:00 duration of PT2H51M 216.56 USD\n",
            "213. United Airlines flight departing at 2023-03-21 10:11:00 duration of PT2H42M 216.56 USD\n",
            "214. United Airlines flight departing at 2023-03-21 10:00:00 duration of PT2H43M 216.56 USD\n",
            "215. United Airlines flight departing at 2023-03-21 08:00:00 duration of PT2H43M 216.56 USD\n",
            "216. United Airlines flight departing at 2023-03-21 06:10:00 duration of PT2H40M 216.56 USD\n",
            "217. United Airlines flight departing at 2023-03-21 06:00:00 duration of PT2H36M 216.56 USD\n",
            "218. American Airlines flight departing at 2023-03-21 06:00:00 duration of PT2H1M 216.71 USD\n",
            "219. American Airlines flight departing at 2023-03-21 11:30:00 duration of PT2H5M 216.71 USD\n",
            "220. American Airlines flight departing at 2023-03-21 10:03:00 duration of PT2H11M 216.71 USD\n",
            "221. American Airlines flight departing at 2023-03-21 13:00:00 duration of PT2H2M 216.71 USD\n",
            "222. American Airlines flight departing at 2023-03-21 16:04:00 duration of PT2H15M 216.71 USD\n",
            "223. Delta Air Lines flight departing at 2023-03-21 06:00:00 duration of PT2H32M 218.90 USD\n",
            "224. American Airlines flight departing at 2023-03-21 10:00:00 duration of PT2H24M 224.70 USD\n",
            "225. American Airlines flight departing at 2023-03-21 16:04:00 duration of PT2H15M 226.70 USD\n",
            "226. United Airlines flight departing at 2023-03-21 15:00:00 duration of PT2H42M 226.84 USD\n",
            "227. United Airlines flight departing at 2023-03-21 14:00:00 duration of PT2H50M 226.84 USD\n",
            "228. United Airlines flight departing at 2023-03-21 11:00:00 duration of PT2H51M 226.84 USD\n",
            "229. United Airlines flight departing at 2023-03-21 10:00:00 duration of PT2H43M 226.84 USD\n",
            "230. United Airlines flight departing at 2023-03-21 08:00:00 duration of PT2H43M 226.84 USD\n",
            "231. United Airlines flight departing at 2023-03-21 06:10:00 duration of PT2H40M 226.84 USD\n",
            "232. American Airlines flight departing at 2023-03-21 06:00:00 duration of PT2H1M 231.70 USD\n",
            "233. American Airlines flight departing at 2023-03-21 14:58:00 duration of PT2H7M 231.70 USD\n",
            "234. American Airlines flight departing at 2023-03-21 13:00:00 duration of PT2H2M 231.70 USD\n",
            "235. American Airlines flight departing at 2023-03-21 11:30:00 duration of PT2H5M 231.70 USD\n",
            "236. American Airlines flight departing at 2023-03-21 10:03:00 duration of PT2H11M 231.70 USD\n",
            "237. American Airlines flight departing at 2023-03-21 06:00:00 duration of PT1H57M 232.70 USD\n",
            "238. American Airlines flight departing at 2023-03-21 06:00:00 duration of PT1H57M 236.70 USD\n",
            "239. American Airlines flight departing at 2023-03-21 10:00:00 duration of PT2H24M 239.70 USD\n",
            "240. Spirit Airlines flight departing at 2023-03-21 15:55:00 duration of PT2H32M 245.89 USD\n",
            "241. Spirit Airlines flight departing at 2023-03-21 13:07:00 duration of PT2H31M 245.89 USD\n",
            "242. American Airlines flight departing at 2023-03-21 08:00:00 duration of PT1H18M 253.20 USD\n",
            "243. American Airlines flight departing at 2023-03-21 06:00:00 duration of PT1H21M 253.20 USD\n",
            "244. American Airlines flight departing at 2023-03-21 12:00:00 duration of PT1H16M 253.20 USD\n",
            "245. American Airlines flight departing at 2023-03-21 16:00:00 duration of PT1H20M 253.20 USD\n",
            "246. United Airlines flight departing at 2023-03-21 15:14:00 duration of PT2H41M 266.61 USD\n",
            "247. United Airlines flight departing at 2023-03-21 11:33:00 duration of PT2H36M 266.61 USD\n",
            "248. United Airlines flight departing at 2023-03-21 10:11:00 duration of PT2H42M 266.61 USD\n",
            "249. United Airlines flight departing at 2023-03-21 06:00:00 duration of PT2H36M 266.61 USD\n",
            "250. United Airlines flight departing at 2023-03-21 15:00:00 duration of PT2H42M 275.69 USD\n",
            "251. United Airlines flight departing at 2023-03-21 14:00:00 duration of PT2H50M 275.69 USD\n",
            "252. United Airlines flight departing at 2023-03-21 11:00:00 duration of PT2H51M 275.69 USD\n",
            "253. United Airlines flight departing at 2023-03-21 10:00:00 duration of PT2H43M 275.69 USD\n",
            "254. United Airlines flight departing at 2023-03-21 08:00:00 duration of PT2H43M 275.69 USD\n",
            "255. United Airlines flight departing at 2023-03-21 06:10:00 duration of PT2H40M 275.69 USD\n",
            "256. American Airlines flight departing at 2023-03-21 10:25:00 duration of PT2H3M 281.70 USD\n",
            "257. American Airlines flight departing at 2023-03-21 15:29:00 duration of PT2H1M 281.70 USD\n",
            "258. American Airlines flight departing at 2023-03-21 09:25:00 duration of PT2H2M 281.70 USD\n",
            "259. American Airlines flight departing at 2023-03-21 13:41:00 duration of PT1H58M 281.70 USD\n",
            "260. American Airlines flight departing at 2023-03-21 16:04:00 duration of PT2H15M 291.70 USD\n",
            "261. United Airlines flight departing at 2023-03-21 07:45:00 duration of PT2H41M 292.41 USD\n",
            "262. Spirit Airlines flight departing at 2023-03-21 22:05:00 duration of PT3H1M 297.18 USD\n",
            "263. Spirit Airlines flight departing at 2023-03-21 16:50:00 duration of PT3H7M 297.18 USD\n",
            "264. Spirit Airlines flight departing at 2023-03-21 13:25:00 duration of PT3H1M 297.18 USD\n",
            "265. Spirit Airlines flight departing at 2023-03-21 11:44:00 duration of PT3H1M 297.18 USD\n",
            "266. Spirit Airlines flight departing at 2023-03-21 11:44:00 duration of PT3H1M 297.18 USD\n",
            "267. Spirit Airlines flight departing at 2023-03-21 11:30:00 duration of PT3H6M 297.18 USD\n",
            "268. Spirit Airlines flight departing at 2023-03-21 11:30:00 duration of PT3H6M 297.18 USD\n",
            "269. Spirit Airlines flight departing at 2023-03-21 07:35:00 duration of PT3H1M 297.18 USD\n",
            "270. Spirit Airlines flight departing at 2023-03-21 07:35:00 duration of PT3H1M 297.18 USD\n",
            "271. Spirit Airlines flight departing at 2023-03-21 06:00:00 duration of PT3H 297.18 USD\n",
            "272. Spirit Airlines flight departing at 2023-03-21 06:00:00 duration of PT3H 297.18 USD\n",
            "273. Spirit Airlines flight departing at 2023-03-21 06:00:00 duration of PT3H 297.18 USD\n",
            "274. Spirit Airlines flight departing at 2023-03-21 05:45:00 duration of PT3H7M 297.18 USD\n",
            "275. Spirit Airlines flight departing at 2023-03-21 05:45:00 duration of PT3H7M 297.18 USD\n",
            "276. American Airlines flight departing at 2023-03-21 06:00:00 duration of PT1H57M 306.70 USD\n",
            "277. American Airlines flight departing at 2023-03-21 06:00:00 duration of PT2H6M 311.70 USD\n",
            "278. American Airlines flight departing at 2023-03-21 10:00:00 duration of PT2H24M 311.70 USD\n",
            "279. American Airlines flight departing at 2023-03-21 15:48:00 duration of PT1H38M 313.20 USD\n",
            "280. United Airlines flight departing at 2023-03-21 08:36:00 duration of PT2H38M 317.86 USD\n",
            "281. United Airlines flight departing at 2023-03-21 20:45:00 duration of PT2H31M 317.86 USD\n",
            "282. United Airlines flight departing at 2023-03-21 16:59:00 duration of PT2H32M 317.86 USD\n",
            "283. United Airlines flight departing at 2023-03-21 15:05:00 duration of PT2H31M 317.86 USD\n",
            "284. United Airlines flight departing at 2023-03-21 13:29:00 duration of PT2H30M 317.86 USD\n",
            "285. United Airlines flight departing at 2023-03-21 11:58:00 duration of PT2H30M 317.86 USD\n",
            "286. United Airlines flight departing at 2023-03-21 10:40:00 duration of PT2H29M 317.86 USD\n",
            "287. United Airlines flight departing at 2023-03-21 06:30:00 duration of PT2H31M 317.86 USD\n",
            "288. United Airlines flight departing at 2023-03-21 15:14:00 duration of PT2H41M 327.05 USD\n",
            "289. United Airlines flight departing at 2023-03-21 15:00:00 duration of PT2H42M 327.05 USD\n",
            "290. United Airlines flight departing at 2023-03-21 14:00:00 duration of PT2H50M 327.05 USD\n",
            "291. United Airlines flight departing at 2023-03-21 11:33:00 duration of PT2H36M 327.05 USD\n",
            "292. United Airlines flight departing at 2023-03-21 11:00:00 duration of PT2H51M 327.05 USD\n",
            "293. United Airlines flight departing at 2023-03-21 10:11:00 duration of PT2H42M 327.05 USD\n",
            "294. United Airlines flight departing at 2023-03-21 10:00:00 duration of PT2H43M 327.05 USD\n",
            "295. United Airlines flight departing at 2023-03-21 08:00:00 duration of PT2H43M 327.05 USD\n",
            "296. United Airlines flight departing at 2023-03-21 06:10:00 duration of PT2H40M 327.05 USD\n",
            "297. United Airlines flight departing at 2023-03-21 06:00:00 duration of PT2H36M 327.05 USD\n",
            "298. United Airlines flight departing at 2023-03-21 14:59:00 duration of PT1H18M 327.05 USD\n",
            "299. United Airlines flight departing at 2023-03-21 14:45:00 duration of PT1H26M 327.05 USD\n",
            "300. United Airlines flight departing at 2023-03-21 15:29:00 duration of PT1H26M 327.05 USD\n",
            "301. United Airlines flight departing at 2023-03-21 10:24:00 duration of PT1H26M 327.05 USD\n",
            "302. United Airlines flight departing at 2023-03-21 10:15:00 duration of PT1H24M 327.05 USD\n",
            "303. United Airlines flight departing at 2023-03-21 06:12:00 duration of PT1H19M 327.05 USD\n",
            "304. United Airlines flight departing at 2023-03-21 06:00:00 duration of PT1H26M 327.05 USD\n",
            "305. Spirit Airlines flight departing at 2023-03-21 21:30:00 duration of PT2H9M 332.18 USD\n",
            "306. Spirit Airlines flight departing at 2023-03-21 16:50:00 duration of PT2H8M 332.18 USD\n",
            "307. Spirit Airlines flight departing at 2023-03-21 12:25:00 duration of PT2H7M 332.18 USD\n",
            "308. Spirit Airlines flight departing at 2023-03-21 12:25:00 duration of PT2H7M 332.18 USD\n",
            "309. Spirit Airlines flight departing at 2023-03-21 12:16:00 duration of PT4H11M 332.18 USD\n",
            "310. Spirit Airlines flight departing at 2023-03-21 16:30:00 duration of PT3H14M 336.68 USD\n",
            "311. Spirit Airlines flight departing at 2023-03-21 13:29:00 duration of PT3H10M 336.68 USD\n",
            "312. Spirit Airlines flight departing at 2023-03-21 13:29:00 duration of PT3H10M 336.68 USD\n",
            "313. Spirit Airlines flight departing at 2023-03-21 06:00:00 duration of PT3H6M 336.68 USD\n",
            "314. Spirit Airlines flight departing at 2023-03-21 06:00:00 duration of PT3H6M 336.68 USD\n",
            "315. United Airlines flight departing at 2023-03-21 07:45:00 duration of PT2H41M 341.27 USD\n",
            "316. American Airlines flight departing at 2023-03-21 16:04:00 duration of PT2H15M 356.70 USD\n",
            "317. American Airlines flight departing at 2023-03-21 16:04:00 duration of PT2H15M 426.70 USD\n",
            "318. Delta Air Lines flight departing at 2023-03-21 14:59:00 duration of PT2H7M 462.20 USD\n",
            "319. Delta Air Lines flight departing at 2023-03-21 12:35:00 duration of PT1H52M 482.20 USD\n",
            "320. Delta Air Lines flight departing at 2023-03-21 08:30:00 duration of PT2H2M 482.20 USD\n",
            "321. Delta Air Lines flight departing at 2023-03-21 12:35:00 duration of PT1H52M 482.20 USD\n",
            "322. Delta Air Lines flight departing at 2023-03-21 09:50:00 duration of PT1H53M 482.20 USD\n",
            "323. Delta Air Lines flight departing at 2023-03-21 09:50:00 duration of PT1H53M 482.20 USD\n",
            "324. Delta Air Lines flight departing at 2023-03-21 06:20:00 duration of PT1H47M 492.20 USD\n",
            "325. Delta Air Lines flight departing at 2023-03-21 15:19:00 duration of PT1H40M 502.20 USD\n",
            "326. Delta Air Lines flight departing at 2023-03-21 09:10:00 duration of PT1H29M 502.20 USD\n",
            "327. Delta Air Lines flight departing at 2023-03-21 17:55:00 duration of PT1H30M 502.20 USD\n",
            "328. Delta Air Lines flight departing at 2023-03-21 06:00:00 duration of PT1H19M 512.21 USD\n",
            "329. Delta Air Lines flight departing at 2023-03-21 09:35:00 duration of PT1H33M 512.21 USD\n",
            "330. Delta Air Lines flight departing at 2023-03-21 15:35:00 duration of PT1H35M 512.21 USD\n",
            "331. Delta Air Lines flight departing at 2023-03-21 14:59:00 duration of PT2H7M 552.20 USD\n",
            "332. Delta Air Lines flight departing at 2023-03-21 12:35:00 duration of PT1H52M 572.19 USD\n",
            "333. Delta Air Lines flight departing at 2023-03-21 08:30:00 duration of PT2H2M 572.19 USD\n",
            "334. Delta Air Lines flight departing at 2023-03-21 12:35:00 duration of PT1H52M 572.19 USD\n",
            "335. Delta Air Lines flight departing at 2023-03-21 09:50:00 duration of PT1H53M 572.19 USD\n",
            "336. Delta Air Lines flight departing at 2023-03-21 09:50:00 duration of PT1H53M 572.19 USD\n",
            "337. Delta Air Lines flight departing at 2023-03-21 06:20:00 duration of PT1H47M 582.20 USD\n",
            "338. Delta Air Lines flight departing at 2023-03-21 15:19:00 duration of PT1H40M 602.21 USD\n",
            "339. Delta Air Lines flight departing at 2023-03-21 09:10:00 duration of PT1H29M 602.21 USD\n",
            "340. Delta Air Lines flight departing at 2023-03-21 17:55:00 duration of PT1H30M 602.21 USD\n",
            "341. Delta Air Lines flight departing at 2023-03-21 06:00:00 duration of PT1H19M 612.20 USD\n",
            "342. Delta Air Lines flight departing at 2023-03-21 09:35:00 duration of PT1H33M 612.20 USD\n",
            "343. Delta Air Lines flight departing at 2023-03-21 15:35:00 duration of PT1H35M 612.20 USD\n",
            "344. Delta Air Lines flight departing at 2023-03-21 14:17:00 duration of PT2H17M 692.19 USD\n",
            "345. Delta Air Lines flight departing at 2023-03-21 07:20:00 duration of PT2H18M 692.19 USD\n",
            "346. Delta Air Lines flight departing at 2023-03-21 14:17:00 duration of PT2H17M 812.21 USD\n",
            "347. Delta Air Lines flight departing at 2023-03-21 07:20:00 duration of PT2H18M 812.21 USD\n",
            "348. Delta Air Lines flight departing at 2023-03-21 06:00:00 duration of PT1H19M 902.21 USD\n",
            "349. Delta Air Lines flight departing at 2023-03-21 09:35:00 duration of PT1H33M 902.21 USD\n",
            "350. Delta Air Lines flight departing at 2023-03-21 15:35:00 duration of PT1H35M 902.21 USD\n"
          ]
        }
      ]
    },
    {
      "cell_type": "code",
      "source": [
        "offer = offers[1]\n",
        "print(\n",
        "    f\"{idx + 1}. {offer.owner.name} flight departing at \"\n",
        "    + f\"{offer.slices[0].segments[0].departing_at} duration of \"\n",
        "      + f\"{offer.slices[0].segments[0].duration} \"\n",
        "    + f\"{offer.total_amount} {offer.total_currency}\"\n",
        "    )\n",
        "break"
      ],
      "metadata": {
        "colab": {
          "base_uri": "https://localhost:8080/",
          "height": 148
        },
        "id": "pxt8BNqn07c5",
        "outputId": "48fac325-dcef-46f8-c885-134026a24dab"
      },
      "execution_count": 48,
      "outputs": [
        {
          "output_type": "stream",
          "name": "stdout",
          "text": [
            "350. United Airlines flight departing at 2023-03-21 16:59:00 duration of PT2H32M 53.39 USD\n"
          ]
        },
        {
          "output_type": "error",
          "ename": "SyntaxError",
          "evalue": "ignored",
          "traceback": [
            "\u001b[0;36m  File \u001b[0;32m\"<ipython-input-48-94a14e5057f6>\"\u001b[0;36m, line \u001b[0;32m8\u001b[0m\n\u001b[0;31m    break\u001b[0m\n\u001b[0m    ^\u001b[0m\n\u001b[0;31mSyntaxError\u001b[0m\u001b[0;31m:\u001b[0m 'break' outside loop\n"
          ]
        }
      ]
    },
    {
      "cell_type": "code",
      "source": [
        "import datetime\n",
        "\n",
        "duration_string = \"PT2H31M\"\n",
        "duration = datetime.timedelta(hours=int(duration_string[2]), minutes=int(duration_string[4:-1]))\n",
        "total_minutes = duration.total_seconds() // 60\n",
        "print(total_minutes)\n"
      ],
      "metadata": {
        "colab": {
          "base_uri": "https://localhost:8080/"
        },
        "id": "Ozfe8LKn4S3M",
        "outputId": "898636bb-70dd-4697-d621-87d8c1bacf92"
      },
      "execution_count": 49,
      "outputs": [
        {
          "output_type": "stream",
          "name": "stdout",
          "text": [
            "151.0\n"
          ]
        }
      ]
    },
    {
      "cell_type": "code",
      "source": [
        "integer_amount = float(offer.total_amount)\n",
        "print(integer_amount)\n"
      ],
      "metadata": {
        "colab": {
          "base_uri": "https://localhost:8080/"
        },
        "id": "kGfAQ97t4S6O",
        "outputId": "518212e6-c524-4518-a3e3-7917fa5781c5"
      },
      "execution_count": 50,
      "outputs": [
        {
          "output_type": "stream",
          "name": "stdout",
          "text": [
            "53.39\n"
          ]
        }
      ]
    },
    {
      "cell_type": "code",
      "source": [
        "offer = offers[1]\n",
        "offer.owner.name"
      ],
      "metadata": {
        "colab": {
          "base_uri": "https://localhost:8080/",
          "height": 35
        },
        "id": "xr6yABsauY6k",
        "outputId": "cdb1647e-197d-4cc4-d8d9-89c552531cb5"
      },
      "execution_count": 51,
      "outputs": [
        {
          "output_type": "execute_result",
          "data": {
            "text/plain": [
              "'United Airlines'"
            ],
            "application/vnd.google.colaboratory.intrinsic+json": {
              "type": "string"
            }
          },
          "metadata": {},
          "execution_count": 51
        }
      ]
    },
    {
      "cell_type": "code",
      "source": [
        "import datetime\n",
        "#Getting the top airline details\n",
        "offer = offers[1]\n",
        "\n",
        "#Extracting the flight duration in minutes\n",
        "duration_string = offer.slices[0].segments[0].duration\n",
        "duration = datetime.timedelta(hours=int(duration_string[2]), minutes=int(duration_string[4:-1]))\n",
        "total_minutes = duration.total_seconds() // 60\n",
        "print(total_minutes)\n",
        "\n",
        "#Extracting flight price\n",
        "flight_price = float(offer.total_amount)\n",
        "print(flight_price)\n"
      ],
      "metadata": {
        "colab": {
          "base_uri": "https://localhost:8080/"
        },
        "id": "7HfC9XVR5rxI",
        "outputId": "7b780e0b-49ef-46ba-ac54-fee5da103ba5"
      },
      "execution_count": 52,
      "outputs": [
        {
          "output_type": "stream",
          "name": "stdout",
          "text": [
            "152.0\n",
            "53.39\n"
          ]
        }
      ]
    },
    {
      "cell_type": "markdown",
      "source": [
        "Kayak Datascraping\n"
      ],
      "metadata": {
        "id": "LpQnrHtoW_Xe"
      }
    },
    {
      "cell_type": "markdown",
      "source": [
        "Webscraping using Beautiful Soup"
      ],
      "metadata": {
        "id": "4nuyeom5hZiE"
      }
    },
    {
      "cell_type": "code",
      "execution_count": null,
      "metadata": {
        "id": "MXChaYIMhT42"
      },
      "outputs": [],
      "source": [
        "import time\n",
        "import requests\n",
        "from bs4 import BeautifulSoup\n",
        "origin = \"LAX\"\n",
        "destination = \"SFO\"\n",
        "start_date = \"2023-03-19\"\n",
        "base_url = \"https://www.expedia.com/Flights-Search?flight-type=on&mode=search&trip=roundtrip&leg1=from%3ASan+Francisco+%28SFO+-+San+Francisco+Intl.%29%2Cto%3ALas+Vegas+%28LAS+-+Harry+Reid+Intl.%29%2Cdeparture%3A3%2F8%2F2023TANYT&options=cabinclass%3Aeconomy&leg2=from%3ALas+Vegas+%28LAS+-+Harry+Reid+Intl.%29%2Cto%3ASan+Francisco+%28SFO+-+San+Francisco+Intl.%29%2Cdeparture%3A3%2F9%2F2023TANYT&passengers=children%3A0%2Cadults%3A1%2Cseniors%3A0%2Cinfantinlap%3AY&fromDate=3%2F8%2F2023&toDate=3%2F9%2F2023&d1=2023-03-08&d2=2023-03-09\"\n",
        "url = f\"{base_url}/{origin}-{destination}/{start_date}?sort=bestflight_a\"\n",
        "url\n",
        "response = requests.get(base_url)\n",
        "time.sleep(1)\n",
        "response = requests.get(url)\n",
        "soup = BeautifulSoup(response.content, 'html.parser')\n",
        "soup"
      ]
    },
    {
      "cell_type": "code",
      "source": [
        "from selenium.common.exceptions import NoSuchElementException\n",
        "\n",
        "# Close cookies pop-up\n",
        "accept_cookies_xpath = '/html/body/div[12]/div/div[3]/div/div/div/div/div[1]/div/div[2]/div[2]/div[1]/button/span'\n",
        "\n",
        "try:\n",
        "   requests.find_element_by_xpath(accept_cookies_xpath).click()\n",
        "except NoSuchElementException:\n",
        "   pass"
      ],
      "metadata": {
        "id": "sxTGFXENtHZc"
      },
      "execution_count": null,
      "outputs": []
    },
    {
      "cell_type": "markdown",
      "source": [
        "Webscraping using selenium"
      ],
      "metadata": {
        "id": "FkB5rLiWhmxM"
      }
    },
    {
      "cell_type": "code",
      "source": [
        "!pip install selenium\n",
        "!apt-get update\n",
        "!apt-get install -y chromium-browser\n",
        "!apt install chromium-chromedriver\n",
        "from selenium import webdriver"
      ],
      "metadata": {
        "id": "MqAE8LCwhqET"
      },
      "execution_count": null,
      "outputs": []
    },
    {
      "cell_type": "code",
      "source": [
        "options = webdriver.ChromeOptions()\n",
        "options.add_argument('--no-sandbox')\n",
        "options.add_argument('--headless')\n",
        "options.add_argument('--disable-gpu')\n",
        "options.add_argument('--diable-dve-shm-uage')\n",
        "\n",
        "driver = webdriver.Chrome(executable_path='/usr/lib/chromium-browser/chromedriver', options = options)"
      ],
      "metadata": {
        "id": "qDCvFaURiHSD"
      },
      "execution_count": null,
      "outputs": []
    },
    {
      "cell_type": "code",
      "source": [
        "import requests\n",
        "\n",
        "url = \"https://skyscanner50.p.rapidapi.com/api/v1/searchAirport\"\n",
        "\n",
        "querystring = {\"query\":\"london\"}\n",
        "\n",
        "headers = {\n",
        "\t\"X-RapidAPI-Key\": \"e58dd894f7mshdb83450cb50f8c9p172875jsn5bbc9b76f61e\",\n",
        "\t\"X-RapidAPI-Host\": \"skyscanner50.p.rapidapi.com\"\n",
        "}\n",
        "\n",
        "response = requests.request(\"GET\", url, headers=headers, params=querystring)\n",
        "\n",
        "print(response.text)"
      ],
      "metadata": {
        "id": "sLiW-2QrHq5R",
        "outputId": "87b2bbf9-c5c0-408e-925d-7701147db5f3",
        "colab": {
          "base_uri": "https://localhost:8080/"
        }
      },
      "execution_count": null,
      "outputs": [
        {
          "output_type": "stream",
          "name": "stdout",
          "text": [
            "{\"message\":\"You are not subscribed to this API.\"}\n"
          ]
        }
      ]
    }
  ]
}